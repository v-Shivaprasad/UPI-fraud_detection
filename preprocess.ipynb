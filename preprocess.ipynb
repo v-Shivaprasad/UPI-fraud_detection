{
 "cells": [
  {
   "cell_type": "code",
   "execution_count": 1,
   "id": "1de60d2d",
   "metadata": {},
   "outputs": [],
   "source": [
    "import pandas as pd\n",
    "df = pd.read_csv(\"upi.csv\")"
   ]
  },
  {
   "cell_type": "code",
   "execution_count": 2,
   "id": "2b21ef7a",
   "metadata": {},
   "outputs": [],
   "source": [
    "df[\"transaction_time\"] = pd.to_datetime(df[\"transaction_time\"])\n",
    "\n",
    "df = df.sort_values(by=[\"user_id\", \"transaction_time\"])"
   ]
  },
  {
   "cell_type": "code",
   "execution_count": null,
   "metadata": {},
   "outputs": [
    {
     "name": "stdout",
     "output_type": "stream",
     "text": [
      "   transaction_id  user_id  transaction_amount  merchant_id  device_id  \\\n",
      "0               1     1000             1148.81          472       6706   \n",
      "1               2     1000              845.45          767       6430   \n",
      "2               3     1000             1164.36          570       5226   \n",
      "3               4     1000              957.18          649       6138   \n",
      "4               5     1000             1188.94          227       5183   \n",
      "5               6     1000             1096.70          443       6394   \n",
      "6               7     1000             1066.73          282       6517   \n",
      "7               8     1000             1155.28          995       6719   \n",
      "8               9     1000              939.56          671       5459   \n",
      "9              10     1000              970.81          691       6957   \n",
      "\n",
      "     transaction_time location  is_fraud  fraud_score  \n",
      "0 2023-01-01 20:58:56  Chennai         0     0.187022  \n",
      "1 2023-01-02 09:36:33  Chennai         0     0.215825  \n",
      "2 2023-01-02 16:07:16  Chennai         0     0.214436  \n",
      "3 2023-01-03 01:45:38  Chennai         0     0.255402  \n",
      "4 2023-01-03 22:41:39  Chennai         0     0.229217  \n",
      "5 2023-01-04 11:08:36  Chennai         0     0.064353  \n",
      "6 2023-01-04 18:22:10  Chennai         0     0.008497  \n",
      "7 2023-01-04 19:46:22  Chennai         0     0.077069  \n",
      "8 2023-01-05 09:21:29  Chennai         0     0.243773  \n",
      "9 2023-01-06 02:28:45  Chennai         0     0.262541  \n"
     ]
    }
   ],
   "source": [
    "print(df.head(10))"
   ]
  },
  {
   "cell_type": "code",
   "execution_count": 4,
   "id": "7d590e35",
   "metadata": {},
   "outputs": [],
   "source": [
    "grouped_features = []"
   ]
  },
  {
   "cell_type": "code",
   "execution_count": 5,
   "id": "905b6660",
   "metadata": {},
   "outputs": [],
   "source": [
    "for user_id, user_txns in df.groupby(\"user_id\"):\n",
    "    user_txns = user_txns.reset_index(drop=True)\n",
    "\n",
    "    # Use all transactions except the last one for features\n",
    "    history = user_txns.iloc[:-1]\n",
    "    current = user_txns.iloc[-1]   # latest txn\n",
    "\n",
    "    # Build feature dict\n",
    "    time_diffs = history[\"transaction_time\"].diff().dt.total_seconds()\n",
    "    feature_dict = {\n",
    "        \"user_id\": user_id,\n",
    "        \"transaction_id\": current[\"transaction_id\"],\n",
    "        \"current_amount\": current[\"transaction_amount\"],\n",
    "        \"mean_amount\": history[\"transaction_amount\"].mean(),\n",
    "        \"std_amount\": history[\"transaction_amount\"].std(),\n",
    "        \"max_amount\": history[\"transaction_amount\"].max(),\n",
    "        \"min_amount\": history[\"transaction_amount\"].min(),\n",
    "        \"unique_devices\": history[\"device_id\"].nunique(),\n",
    "        \"primary_device_ratio\": (history[\"device_id\"].value_counts().max() / len(history)) if len(history) > 0 else 1.0,\n",
    "        \"unique_locations\": history[\"location\"].nunique(),\n",
    "        \"location_switch_rate\": ((history[\"location\"] != history[\"location\"].shift()).mean()) if len(history) > 1 else 0.0,\n",
    "        \"time_diff_mean\": time_diffs.mean() if len(history) > 1 else 0.0,\n",
    "        \"time_diff_std\": time_diffs.std() if len(history) > 1 else 0.0,\n",
    "        \"min_time_gap\": time_diffs.min() if len(history) > 1 else 0.0,\n",
    "        \"txn_count\": len(history),\n",
    "        \"is_fraud\": int(user_txns[\"is_fraud\"].max())\n",
    "    }\n",
    "   \n",
    "\n",
    "\n",
    "\n",
    "    grouped_features.append(feature_dict)"
   ]
  },
  {
   "cell_type": "code",
   "execution_count": 6,
   "id": "48645069",
   "metadata": {},
   "outputs": [],
   "source": [
    "grouped_df = pd.DataFrame(grouped_features)"
   ]
  },
  {
   "cell_type": "code",
   "execution_count": 7,
   "id": "a8262a2f",
   "metadata": {},
   "outputs": [
    {
     "data": {
      "text/html": [
       "<div>\n",
       "<style scoped>\n",
       "    .dataframe tbody tr th:only-of-type {\n",
       "        vertical-align: middle;\n",
       "    }\n",
       "\n",
       "    .dataframe tbody tr th {\n",
       "        vertical-align: top;\n",
       "    }\n",
       "\n",
       "    .dataframe thead th {\n",
       "        text-align: right;\n",
       "    }\n",
       "</style>\n",
       "<table border=\"1\" class=\"dataframe\">\n",
       "  <thead>\n",
       "    <tr style=\"text-align: right;\">\n",
       "      <th></th>\n",
       "      <th>user_id</th>\n",
       "      <th>transaction_id</th>\n",
       "      <th>current_amount</th>\n",
       "      <th>mean_amount</th>\n",
       "      <th>std_amount</th>\n",
       "      <th>max_amount</th>\n",
       "      <th>min_amount</th>\n",
       "      <th>unique_devices</th>\n",
       "      <th>primary_device_ratio</th>\n",
       "      <th>unique_locations</th>\n",
       "      <th>location_switch_rate</th>\n",
       "      <th>time_diff_mean</th>\n",
       "      <th>time_diff_std</th>\n",
       "      <th>min_time_gap</th>\n",
       "      <th>txn_count</th>\n",
       "      <th>is_fraud</th>\n",
       "    </tr>\n",
       "  </thead>\n",
       "  <tbody>\n",
       "    <tr>\n",
       "      <th>0</th>\n",
       "      <td>1000</td>\n",
       "      <td>19</td>\n",
       "      <td>783.83</td>\n",
       "      <td>1551.085556</td>\n",
       "      <td>2333.778202</td>\n",
       "      <td>10883.86</td>\n",
       "      <td>741.77</td>\n",
       "      <td>18</td>\n",
       "      <td>0.055556</td>\n",
       "      <td>1</td>\n",
       "      <td>0.055556</td>\n",
       "      <td>49584.647059</td>\n",
       "      <td>23340.770320</td>\n",
       "      <td>5052.0</td>\n",
       "      <td>18</td>\n",
       "      <td>1</td>\n",
       "    </tr>\n",
       "    <tr>\n",
       "      <th>1</th>\n",
       "      <td>1001</td>\n",
       "      <td>32</td>\n",
       "      <td>1891.62</td>\n",
       "      <td>1938.394167</td>\n",
       "      <td>99.750317</td>\n",
       "      <td>2097.52</td>\n",
       "      <td>1746.40</td>\n",
       "      <td>12</td>\n",
       "      <td>0.083333</td>\n",
       "      <td>1</td>\n",
       "      <td>0.083333</td>\n",
       "      <td>36834.090909</td>\n",
       "      <td>22294.896503</td>\n",
       "      <td>5958.0</td>\n",
       "      <td>12</td>\n",
       "      <td>0</td>\n",
       "    </tr>\n",
       "    <tr>\n",
       "      <th>2</th>\n",
       "      <td>1002</td>\n",
       "      <td>51</td>\n",
       "      <td>1603.78</td>\n",
       "      <td>1540.666667</td>\n",
       "      <td>253.946267</td>\n",
       "      <td>2028.60</td>\n",
       "      <td>1128.81</td>\n",
       "      <td>18</td>\n",
       "      <td>0.055556</td>\n",
       "      <td>1</td>\n",
       "      <td>0.055556</td>\n",
       "      <td>42734.764706</td>\n",
       "      <td>28187.013973</td>\n",
       "      <td>2522.0</td>\n",
       "      <td>18</td>\n",
       "      <td>0</td>\n",
       "    </tr>\n",
       "    <tr>\n",
       "      <th>3</th>\n",
       "      <td>1003</td>\n",
       "      <td>62</td>\n",
       "      <td>1133.21</td>\n",
       "      <td>1274.256000</td>\n",
       "      <td>186.975195</td>\n",
       "      <td>1494.30</td>\n",
       "      <td>933.85</td>\n",
       "      <td>10</td>\n",
       "      <td>0.100000</td>\n",
       "      <td>1</td>\n",
       "      <td>0.100000</td>\n",
       "      <td>49742.333333</td>\n",
       "      <td>16793.639198</td>\n",
       "      <td>25476.0</td>\n",
       "      <td>10</td>\n",
       "      <td>0</td>\n",
       "    </tr>\n",
       "    <tr>\n",
       "      <th>4</th>\n",
       "      <td>1004</td>\n",
       "      <td>75</td>\n",
       "      <td>746.37</td>\n",
       "      <td>999.230000</td>\n",
       "      <td>1635.026775</td>\n",
       "      <td>6122.89</td>\n",
       "      <td>10.00</td>\n",
       "      <td>12</td>\n",
       "      <td>0.083333</td>\n",
       "      <td>2</td>\n",
       "      <td>0.250000</td>\n",
       "      <td>29171.363636</td>\n",
       "      <td>12017.809977</td>\n",
       "      <td>4982.0</td>\n",
       "      <td>12</td>\n",
       "      <td>1</td>\n",
       "    </tr>\n",
       "  </tbody>\n",
       "</table>\n",
       "</div>"
      ],
      "text/plain": [
       "   user_id  transaction_id  current_amount  mean_amount   std_amount  \\\n",
       "0     1000              19          783.83  1551.085556  2333.778202   \n",
       "1     1001              32         1891.62  1938.394167    99.750317   \n",
       "2     1002              51         1603.78  1540.666667   253.946267   \n",
       "3     1003              62         1133.21  1274.256000   186.975195   \n",
       "4     1004              75          746.37   999.230000  1635.026775   \n",
       "\n",
       "   max_amount  min_amount  unique_devices  primary_device_ratio  \\\n",
       "0    10883.86      741.77              18              0.055556   \n",
       "1     2097.52     1746.40              12              0.083333   \n",
       "2     2028.60     1128.81              18              0.055556   \n",
       "3     1494.30      933.85              10              0.100000   \n",
       "4     6122.89       10.00              12              0.083333   \n",
       "\n",
       "   unique_locations  location_switch_rate  time_diff_mean  time_diff_std  \\\n",
       "0                 1              0.055556    49584.647059   23340.770320   \n",
       "1                 1              0.083333    36834.090909   22294.896503   \n",
       "2                 1              0.055556    42734.764706   28187.013973   \n",
       "3                 1              0.100000    49742.333333   16793.639198   \n",
       "4                 2              0.250000    29171.363636   12017.809977   \n",
       "\n",
       "   min_time_gap  txn_count  is_fraud  \n",
       "0        5052.0         18         1  \n",
       "1        5958.0         12         0  \n",
       "2        2522.0         18         0  \n",
       "3       25476.0         10         0  \n",
       "4        4982.0         12         1  "
      ]
     },
     "execution_count": 7,
     "metadata": {},
     "output_type": "execute_result"
    }
   ],
   "source": [
    "grouped_df.head(5)"
   ]
  },
  {
   "cell_type": "code",
   "execution_count": 8,
   "id": "61d3e799",
   "metadata": {},
   "outputs": [
    {
     "data": {
      "text/plain": [
       "(5000, 16)"
      ]
     },
     "execution_count": 8,
     "metadata": {},
     "output_type": "execute_result"
    }
   ],
   "source": [
    "grouped_df.shape"
   ]
  },
  {
   "cell_type": "code",
   "execution_count": 9,
   "id": "5986eab7",
   "metadata": {},
   "outputs": [
    {
     "name": "stdout",
     "output_type": "stream",
     "text": [
      "715   4285\n"
     ]
    }
   ],
   "source": [
    "o=0\n",
    "z=0\n",
    "for x in grouped_df[\"is_fraud\"]:\n",
    "    if x==1:\n",
    "        o = o+1\n",
    "    else:\n",
    "        z = z+1\n",
    "\n",
    "print(o,\" \",z)"
   ]
  },
  {
   "cell_type": "code",
   "execution_count": 10,
   "id": "353f3e49",
   "metadata": {},
   "outputs": [],
   "source": [
    "grouped_df.to_csv(\"grouped_upi_dynamic.csv\", index=False)"
   ]
  }
 ],
 "metadata": {
  "kernelspec": {
   "display_name": "venv (3.13.5)",
   "language": "python",
   "name": "python3"
  },
  "language_info": {
   "codemirror_mode": {
    "name": "ipython",
    "version": 3
   },
   "file_extension": ".py",
   "mimetype": "text/x-python",
   "name": "python",
   "nbconvert_exporter": "python",
   "pygments_lexer": "ipython3",
   "version": "3.13.5"
  }
 },
 "nbformat": 4,
 "nbformat_minor": 5
}
