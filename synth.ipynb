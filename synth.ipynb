{
 "cells": [
  {
   "cell_type": "code",
   "execution_count": 1,
   "id": "f81fe2fa",
   "metadata": {},
   "outputs": [
    {
     "name": "stdout",
     "output_type": "stream",
     "text": [
      "Collecting pandas\n",
      "  Downloading pandas-2.3.2-cp313-cp313-manylinux_2_17_x86_64.manylinux2014_x86_64.whl.metadata (91 kB)\n",
      "Collecting numpy\n",
      "  Using cached numpy-2.3.2-cp313-cp313-manylinux_2_27_x86_64.manylinux_2_28_x86_64.whl.metadata (62 kB)\n",
      "Requirement already satisfied: python-dateutil>=2.8.2 in ./venv/lib/python3.13/site-packages (from pandas) (2.9.0.post0)\n",
      "Collecting pytz>=2020.1 (from pandas)\n",
      "  Using cached pytz-2025.2-py2.py3-none-any.whl.metadata (22 kB)\n",
      "Collecting tzdata>=2022.7 (from pandas)\n",
      "  Using cached tzdata-2025.2-py2.py3-none-any.whl.metadata (1.4 kB)\n",
      "Requirement already satisfied: six>=1.5 in ./venv/lib/python3.13/site-packages (from python-dateutil>=2.8.2->pandas) (1.17.0)\n",
      "Downloading pandas-2.3.2-cp313-cp313-manylinux_2_17_x86_64.manylinux2014_x86_64.whl (12.1 MB)\n",
      "\u001b[2K   \u001b[90m━━━━━━━━━━━━━━━━━━━━━━━━━━━━━━━━━━━━━━━━\u001b[0m \u001b[32m12.1/12.1 MB\u001b[0m \u001b[31m562.5 kB/s\u001b[0m eta \u001b[36m0:00:00\u001b[0m00:01\u001b[0m00:01\u001b[0m\n",
      "\u001b[?25hUsing cached numpy-2.3.2-cp313-cp313-manylinux_2_27_x86_64.manylinux_2_28_x86_64.whl (16.6 MB)\n",
      "Using cached pytz-2025.2-py2.py3-none-any.whl (509 kB)\n",
      "Using cached tzdata-2025.2-py2.py3-none-any.whl (347 kB)\n",
      "Installing collected packages: pytz, tzdata, numpy, pandas\n",
      "\u001b[2K   \u001b[90m━━━━━━━━━━━━━━━━━━━━━━━━━━━━━━━━━━━━━━━━\u001b[0m \u001b[32m4/4\u001b[0m [pandas]2m3/4\u001b[0m [pandas]\n",
      "\u001b[1A\u001b[2KSuccessfully installed numpy-2.3.2 pandas-2.3.2 pytz-2025.2 tzdata-2025.2\n",
      "\n",
      "\u001b[1m[\u001b[0m\u001b[34;49mnotice\u001b[0m\u001b[1;39;49m]\u001b[0m\u001b[39;49m A new release of pip is available: \u001b[0m\u001b[31;49m25.1.1\u001b[0m\u001b[39;49m -> \u001b[0m\u001b[32;49m25.2\u001b[0m\n",
      "\u001b[1m[\u001b[0m\u001b[34;49mnotice\u001b[0m\u001b[1;39;49m]\u001b[0m\u001b[39;49m To update, run: \u001b[0m\u001b[32;49mpip install --upgrade pip\u001b[0m\n"
     ]
    }
   ],
   "source": [
    "!pip install pandas numpy"
   ]
  },
  {
   "cell_type": "code",
   "execution_count": 17,
   "id": "8451042a",
   "metadata": {},
   "outputs": [],
   "source": [
    "import pandas as pd\n",
    "import numpy as np\n",
    "\n",
    "np.random.seed(42)"
   ]
  },
  {
   "cell_type": "code",
   "execution_count": 19,
   "id": "d200b315",
   "metadata": {},
   "outputs": [],
   "source": [
    "n_users = 5000\n",
    "min_txns, max_txns = 10, 20 \n",
    "fraud_user_ratio = 0.01   \n",
    "all_locations = [\"Delhi\", \"Mumbai\", \"Hyderabad\", \"Chennai\", \"Bangalore\", \"Kolkata\"]"
   ]
  },
  {
   "cell_type": "code",
   "execution_count": 4,
   "id": "f148892e",
   "metadata": {},
   "outputs": [],
   "source": [
    "user_profiles = pd.DataFrame({\n",
    "    \"user_id\": np.arange(1000, 1000 + n_users),\n",
    "    \"avg_amount\": np.random.uniform(300, 2000, n_users),\n",
    "    \"std_amount\": np.random.uniform(50, 300, n_users),\n",
    "    \"home_location\": np.random.choice(all_locations, n_users),\n",
    "    \"is_traveler\": np.random.choice([0, 1], n_users, p=[0.8, 0.2])  # 20% frequent travelers\n",
    "})"
   ]
  },
  {
   "cell_type": "code",
   "execution_count": 20,
   "id": "cc5a5698",
   "metadata": {},
   "outputs": [],
   "source": [
    "transactions = []\n",
    "txn_id = 1"
   ]
  },
  {
   "cell_type": "code",
   "execution_count": 21,
   "id": "12ae7b63",
   "metadata": {},
   "outputs": [],
   "source": [
    "fraud_users = set(np.random.choice(user_profiles[\"user_id\"], int(fraud_user_ratio * n_users), replace=False))"
   ]
  },
  {
   "cell_type": "code",
   "execution_count": 22,
   "id": "8a39da0f",
   "metadata": {},
   "outputs": [],
   "source": [
    "for _, user in user_profiles.iterrows():\n",
    "    n_txns = np.random.randint(min_txns, max_txns + 1)\n",
    "    last_ts = pd.Timestamp(\"2023-01-01\").value // 10**9\n",
    "    fraud_injected = 0  # count of frauds injected\n",
    "\n",
    "    for i in range(n_txns):\n",
    "        # Base transaction amount\n",
    "        amount = np.random.normal(user[\"avg_amount\"], user[\"std_amount\"])\n",
    "        amount = max(10, round(amount, 2))\n",
    "\n",
    "        # Location (traveler logic)\n",
    "        if user[\"is_traveler\"] and np.random.rand() < 0.3:\n",
    "            location = np.random.choice(all_locations)\n",
    "        else:\n",
    "            location = user[\"home_location\"]\n",
    "\n",
    "        # Device / Merchant\n",
    "        device_id = np.random.randint(5000, 7000)\n",
    "        merchant_id = np.random.randint(200, 1000)\n",
    "\n",
    "        # Timestamp\n",
    "        gap = np.random.randint(60, 60 * 60 * 24)  # 1 min – 1 day\n",
    "        ts = last_ts + gap\n",
    "        last_ts = ts\n",
    "        txn_time = pd.to_datetime(ts, unit=\"s\")\n",
    "\n",
    "        # -------------------------\n",
    "        # Fraud injection\n",
    "        # -------------------------\n",
    "        fraud = 0\n",
    "        if user[\"user_id\"] in fraud_users:\n",
    "            # Inject 1–3 fraud txns per fraud user\n",
    "            if fraud_injected < 2 and np.random.rand() < 0.3 and i > 2:\n",
    "                fraud = 1\n",
    "                fraud_injected += 1\n",
    "                fraud_type = np.random.choice([\"high_amount\", \"burst\", \"loc_device_change\"])\n",
    "                if fraud_type == \"high_amount\":\n",
    "                    amount = round(user[\"avg_amount\"] * np.random.uniform(8, 20), 2)\n",
    "                elif fraud_type == \"burst\":\n",
    "                    amount = round(user[\"avg_amount\"] * np.random.uniform(5, 15), 2)\n",
    "                    ts = last_ts + np.random.randint(1, 120)  # within 2 mins\n",
    "                    last_ts = ts\n",
    "                    txn_time = pd.to_datetime(ts, unit=\"s\")\n",
    "                elif fraud_type == \"loc_device_change\":\n",
    "                    locs = [l for l in all_locations if l != user[\"home_location\"]]\n",
    "                    location = np.random.choice(locs)\n",
    "                    device_id = np.random.randint(7000, 8000)\n",
    "                    amount = round(user[\"avg_amount\"] * np.random.uniform(5, 15), 2)\n",
    "\n",
    "        # Optional random noise fraud for normal users (rare, 1%)\n",
    "        elif np.random.rand() < 0.01:\n",
    "            fraud = 1\n",
    "            fraud_type = np.random.choice([\"high_amount\", \"burst\", \"loc_device_change\"])\n",
    "            if fraud_type == \"high_amount\":\n",
    "                amount = round(user[\"avg_amount\"] * np.random.uniform(8, 20), 2)\n",
    "            elif fraud_type == \"burst\":\n",
    "                amount = round(user[\"avg_amount\"] * np.random.uniform(5, 15), 2)\n",
    "                ts = last_ts + np.random.randint(1, 120)\n",
    "                last_ts = ts\n",
    "                txn_time = pd.to_datetime(ts, unit=\"s\")\n",
    "            elif fraud_type == \"loc_device_change\":\n",
    "                locs = [l for l in all_locations if l != user[\"home_location\"]]\n",
    "                location = np.random.choice(locs)\n",
    "                device_id = np.random.randint(7000, 8000)\n",
    "                amount = round(user[\"avg_amount\"] * np.random.uniform(5, 15), 2)\n",
    "\n",
    "        # Append transaction\n",
    "        transactions.append({\n",
    "            \"transaction_id\": txn_id,\n",
    "            \"user_id\": user[\"user_id\"],\n",
    "            \"transaction_amount\": amount,\n",
    "            \"merchant_id\": merchant_id,\n",
    "            \"device_id\": device_id,\n",
    "            \"transaction_time\": txn_time,\n",
    "            \"location\": location,\n",
    "            \"is_fraud\": fraud\n",
    "        })\n",
    "        txn_id += 1"
   ]
  },
  {
   "cell_type": "code",
   "execution_count": 23,
   "id": "ebf951ed",
   "metadata": {},
   "outputs": [],
   "source": [
    "upi_behavior_df = pd.DataFrame(transactions)"
   ]
  },
  {
   "cell_type": "code",
   "execution_count": 24,
   "id": "c6265cbb",
   "metadata": {},
   "outputs": [],
   "source": [
    "fraud_score = np.clip(\n",
    "    upi_behavior_df[\"is_fraud\"] * np.random.uniform(0.7, 1.0, len(upi_behavior_df)) +\n",
    "    (1 - upi_behavior_df[\"is_fraud\"]) * np.random.uniform(0.0, 0.3, len(upi_behavior_df)), \n",
    "    0, 1\n",
    ")"
   ]
  },
  {
   "cell_type": "code",
   "execution_count": 25,
   "id": "8a845e39",
   "metadata": {},
   "outputs": [],
   "source": [
    "upi_behavior_df[\"fraud_score\"] = fraud_score"
   ]
  },
  {
   "cell_type": "code",
   "execution_count": 26,
   "id": "8eef065f",
   "metadata": {},
   "outputs": [
    {
     "name": "stdout",
     "output_type": "stream",
     "text": [
      " Dataset shape: (75156, 9)\n"
     ]
    }
   ],
   "source": [
    "print(\" Dataset shape:\", upi_behavior_df.shape)"
   ]
  },
  {
   "cell_type": "code",
   "execution_count": 27,
   "id": "5b2ad204",
   "metadata": {},
   "outputs": [
    {
     "name": "stdout",
     "output_type": "stream",
     "text": [
      "Users with at least 1 fraud: 715\n"
     ]
    }
   ],
   "source": [
    "print(\"Users with at least 1 fraud:\", upi_behavior_df.groupby(\"user_id\")[\"is_fraud\"].max().sum())"
   ]
  },
  {
   "cell_type": "code",
   "execution_count": 28,
   "id": "51cd69f9",
   "metadata": {},
   "outputs": [
    {
     "name": "stdout",
     "output_type": "stream",
     "text": [
      "user_id\n",
      "1000    19\n",
      "1001    13\n",
      "1002    19\n",
      "1003    11\n",
      "1004    13\n",
      "1005    13\n",
      "1006    14\n",
      "1007    17\n",
      "1008    20\n",
      "1009    19\n",
      "1010    10\n",
      "1011    10\n",
      "1012    10\n",
      "1013    20\n",
      "1014    10\n",
      "1015    20\n",
      "1016    19\n",
      "1017    15\n",
      "1018    19\n",
      "1019    12\n",
      "dtype: int64\n"
     ]
    }
   ],
   "source": [
    "print(upi_behavior_df.groupby(\"user_id\").size().head(20))"
   ]
  },
  {
   "cell_type": "code",
   "execution_count": 29,
   "id": "f30170a2",
   "metadata": {},
   "outputs": [
    {
     "name": "stdout",
     "output_type": "stream",
     "text": [
      "    transaction_id  user_id  transaction_amount  merchant_id  device_id  \\\n",
      "0                1     1000             1148.81          472       6706   \n",
      "1                2     1000              845.45          767       6430   \n",
      "2                3     1000             1164.36          570       5226   \n",
      "3                4     1000              957.18          649       6138   \n",
      "4                5     1000             1188.94          227       5183   \n",
      "5                6     1000             1096.70          443       6394   \n",
      "6                7     1000             1066.73          282       6517   \n",
      "7                8     1000             1155.28          995       6719   \n",
      "8                9     1000              939.56          671       5459   \n",
      "9               10     1000              970.81          691       6957   \n",
      "10              11     1000              785.78          853       6398   \n",
      "11              12     1000            10883.86          778       5801   \n",
      "12              13     1000              741.77          351       6234   \n",
      "13              14     1000             1063.43          362       5270   \n",
      "14              15     1000             1061.32          633       5350   \n",
      "\n",
      "      transaction_time location  is_fraud  fraud_score  \n",
      "0  2023-01-01 20:58:56  Chennai         0     0.187022  \n",
      "1  2023-01-02 09:36:33  Chennai         0     0.215825  \n",
      "2  2023-01-02 16:07:16  Chennai         0     0.214436  \n",
      "3  2023-01-03 01:45:38  Chennai         0     0.255402  \n",
      "4  2023-01-03 22:41:39  Chennai         0     0.229217  \n",
      "5  2023-01-04 11:08:36  Chennai         0     0.064353  \n",
      "6  2023-01-04 18:22:10  Chennai         0     0.008497  \n",
      "7  2023-01-04 19:46:22  Chennai         0     0.077069  \n",
      "8  2023-01-05 09:21:29  Chennai         0     0.243773  \n",
      "9  2023-01-06 02:28:45  Chennai         0     0.262541  \n",
      "10 2023-01-06 23:45:09  Chennai         0     0.028486  \n",
      "11 2023-01-07 18:20:04  Chennai         1     0.822438  \n",
      "12 2023-01-07 23:50:02  Chennai         0     0.298664  \n",
      "13 2023-01-08 17:02:41  Chennai         0     0.064287  \n",
      "14 2023-01-09 14:43:04  Chennai         0     0.188986  \n"
     ]
    }
   ],
   "source": [
    "print(upi_behavior_df.head(15))"
   ]
  },
  {
   "cell_type": "code",
   "execution_count": 30,
   "id": "5204fba8",
   "metadata": {},
   "outputs": [],
   "source": [
    "upi_behavior_df.to_csv(\"upi.csv\", index=False)"
   ]
  }
 ],
 "metadata": {
  "kernelspec": {
   "display_name": "venv (3.13.5)",
   "language": "python",
   "name": "python3"
  },
  "language_info": {
   "codemirror_mode": {
    "name": "ipython",
    "version": 3
   },
   "file_extension": ".py",
   "mimetype": "text/x-python",
   "name": "python",
   "nbconvert_exporter": "python",
   "pygments_lexer": "ipython3",
   "version": "3.13.5"
  }
 },
 "nbformat": 4,
 "nbformat_minor": 5
}
