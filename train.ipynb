{
 "cells": [
  {
   "cell_type": "code",
   "execution_count": 1,
   "id": "6db4204e",
   "metadata": {},
   "outputs": [
    {
     "name": "stdout",
     "output_type": "stream",
     "text": [
      "Requirement already satisfied: scikit-learn in ./venv/lib/python3.13/site-packages (1.7.1)\n",
      "Requirement already satisfied: numpy>=1.22.0 in ./venv/lib/python3.13/site-packages (from scikit-learn) (2.3.2)\n",
      "Requirement already satisfied: scipy>=1.8.0 in ./venv/lib/python3.13/site-packages (from scikit-learn) (1.16.1)\n",
      "Requirement already satisfied: joblib>=1.2.0 in ./venv/lib/python3.13/site-packages (from scikit-learn) (1.5.2)\n",
      "Requirement already satisfied: threadpoolctl>=3.1.0 in ./venv/lib/python3.13/site-packages (from scikit-learn) (3.6.0)\n",
      "\n",
      "\u001b[1m[\u001b[0m\u001b[34;49mnotice\u001b[0m\u001b[1;39;49m]\u001b[0m\u001b[39;49m A new release of pip is available: \u001b[0m\u001b[31;49m25.1.1\u001b[0m\u001b[39;49m -> \u001b[0m\u001b[32;49m25.2\u001b[0m\n",
      "\u001b[1m[\u001b[0m\u001b[34;49mnotice\u001b[0m\u001b[1;39;49m]\u001b[0m\u001b[39;49m To update, run: \u001b[0m\u001b[32;49mpip install --upgrade pip\u001b[0m\n",
      "Note: you may need to restart the kernel to use updated packages.\n"
     ]
    }
   ],
   "source": [
    "pip install scikit-learn"
   ]
  },
  {
   "cell_type": "code",
   "execution_count": 2,
   "id": "efed4746",
   "metadata": {},
   "outputs": [
    {
     "name": "stdout",
     "output_type": "stream",
     "text": [
      "Collecting xgboost\n",
      "  Downloading xgboost-3.0.4-py3-none-manylinux_2_28_x86_64.whl.metadata (2.1 kB)\n",
      "Requirement already satisfied: numpy in ./venv/lib/python3.13/site-packages (from xgboost) (2.3.2)\n",
      "Collecting nvidia-nccl-cu12 (from xgboost)\n",
      "  Downloading nvidia_nccl_cu12-2.27.7-py3-none-manylinux2014_x86_64.manylinux_2_17_x86_64.whl.metadata (2.0 kB)\n",
      "Requirement already satisfied: scipy in ./venv/lib/python3.13/site-packages (from xgboost) (1.16.1)\n",
      "Downloading xgboost-3.0.4-py3-none-manylinux_2_28_x86_64.whl (94.9 MB)\n",
      "\u001b[2K   \u001b[90m━━━━━━━━━━━━━━━━━━━━━━━━━━━━━━━━━━━━━━━━\u001b[0m \u001b[32m94.9/94.9 MB\u001b[0m \u001b[31m1.1 MB/s\u001b[0m eta \u001b[36m0:00:00\u001b[0m00:01\u001b[0m00:03\u001b[0m0m\n",
      "\u001b[?25hDownloading nvidia_nccl_cu12-2.27.7-py3-none-manylinux2014_x86_64.manylinux_2_17_x86_64.whl (322.5 MB)\n",
      "\u001b[2K   \u001b[90m━━━━━━━━━━━━━━━━━━━━━━━━━━━━━━━━━━━━━━━\u001b[0m \u001b[32m322.5/322.5 MB\u001b[0m \u001b[31m956.4 kB/s\u001b[0m eta \u001b[36m0:00:00\u001b[0m00:01\u001b[0m0:07\u001b[0mm\n",
      "\u001b[?25hInstalling collected packages: nvidia-nccl-cu12, xgboost\n",
      "\u001b[2K   \u001b[90m━━━━━━━━━━━━━━━━━━━━━━━━━━━━━━━━━━━━━━━━\u001b[0m \u001b[32m2/2\u001b[0m [xgboost]m1/2\u001b[0m [xgboost]\n",
      "\u001b[1A\u001b[2KSuccessfully installed nvidia-nccl-cu12-2.27.7 xgboost-3.0.4\n",
      "\n",
      "\u001b[1m[\u001b[0m\u001b[34;49mnotice\u001b[0m\u001b[1;39;49m]\u001b[0m\u001b[39;49m A new release of pip is available: \u001b[0m\u001b[31;49m25.1.1\u001b[0m\u001b[39;49m -> \u001b[0m\u001b[32;49m25.2\u001b[0m\n",
      "\u001b[1m[\u001b[0m\u001b[34;49mnotice\u001b[0m\u001b[1;39;49m]\u001b[0m\u001b[39;49m To update, run: \u001b[0m\u001b[32;49mpip install --upgrade pip\u001b[0m\n",
      "Note: you may need to restart the kernel to use updated packages.\n"
     ]
    }
   ],
   "source": [
    "pip install xgboost"
   ]
  },
  {
   "cell_type": "code",
   "execution_count": 1,
   "id": "c4e26fac",
   "metadata": {},
   "outputs": [],
   "source": [
    "import pandas as pd\n",
    "import numpy as np\n",
    "from sklearn.model_selection import train_test_split\n",
    "from sklearn.linear_model import LogisticRegression\n",
    "from sklearn.preprocessing import LabelEncoder,StandardScaler\n",
    "from sklearn.ensemble import RandomForestClassifier\n",
    "from sklearn.metrics import classification_report,roc_auc_score\n",
    "import xgboost as xgb\n",
    "from sklearn.tree import DecisionTreeClassifier"
   ]
  },
  {
   "cell_type": "code",
   "execution_count": 2,
   "id": "ddc7fbfa",
   "metadata": {},
   "outputs": [
    {
     "data": {
      "text/html": [
       "<div>\n",
       "<style scoped>\n",
       "    .dataframe tbody tr th:only-of-type {\n",
       "        vertical-align: middle;\n",
       "    }\n",
       "\n",
       "    .dataframe tbody tr th {\n",
       "        vertical-align: top;\n",
       "    }\n",
       "\n",
       "    .dataframe thead th {\n",
       "        text-align: right;\n",
       "    }\n",
       "</style>\n",
       "<table border=\"1\" class=\"dataframe\">\n",
       "  <thead>\n",
       "    <tr style=\"text-align: right;\">\n",
       "      <th></th>\n",
       "      <th>user_id</th>\n",
       "      <th>transaction_id</th>\n",
       "      <th>current_amount</th>\n",
       "      <th>mean_amount</th>\n",
       "      <th>std_amount</th>\n",
       "      <th>max_amount</th>\n",
       "      <th>min_amount</th>\n",
       "      <th>unique_devices</th>\n",
       "      <th>primary_device_ratio</th>\n",
       "      <th>unique_locations</th>\n",
       "      <th>location_switch_rate</th>\n",
       "      <th>time_diff_mean</th>\n",
       "      <th>time_diff_std</th>\n",
       "      <th>min_time_gap</th>\n",
       "      <th>txn_count</th>\n",
       "      <th>is_fraud</th>\n",
       "    </tr>\n",
       "  </thead>\n",
       "  <tbody>\n",
       "    <tr>\n",
       "      <th>0</th>\n",
       "      <td>1000</td>\n",
       "      <td>19</td>\n",
       "      <td>783.83</td>\n",
       "      <td>1551.085556</td>\n",
       "      <td>2333.778202</td>\n",
       "      <td>10883.86</td>\n",
       "      <td>741.77</td>\n",
       "      <td>18</td>\n",
       "      <td>0.055556</td>\n",
       "      <td>1</td>\n",
       "      <td>0.055556</td>\n",
       "      <td>49584.647059</td>\n",
       "      <td>23340.770320</td>\n",
       "      <td>5052.0</td>\n",
       "      <td>18</td>\n",
       "      <td>1</td>\n",
       "    </tr>\n",
       "    <tr>\n",
       "      <th>1</th>\n",
       "      <td>1001</td>\n",
       "      <td>32</td>\n",
       "      <td>1891.62</td>\n",
       "      <td>1938.394167</td>\n",
       "      <td>99.750317</td>\n",
       "      <td>2097.52</td>\n",
       "      <td>1746.40</td>\n",
       "      <td>12</td>\n",
       "      <td>0.083333</td>\n",
       "      <td>1</td>\n",
       "      <td>0.083333</td>\n",
       "      <td>36834.090909</td>\n",
       "      <td>22294.896503</td>\n",
       "      <td>5958.0</td>\n",
       "      <td>12</td>\n",
       "      <td>0</td>\n",
       "    </tr>\n",
       "    <tr>\n",
       "      <th>2</th>\n",
       "      <td>1002</td>\n",
       "      <td>51</td>\n",
       "      <td>1603.78</td>\n",
       "      <td>1540.666667</td>\n",
       "      <td>253.946267</td>\n",
       "      <td>2028.60</td>\n",
       "      <td>1128.81</td>\n",
       "      <td>18</td>\n",
       "      <td>0.055556</td>\n",
       "      <td>1</td>\n",
       "      <td>0.055556</td>\n",
       "      <td>42734.764706</td>\n",
       "      <td>28187.013973</td>\n",
       "      <td>2522.0</td>\n",
       "      <td>18</td>\n",
       "      <td>0</td>\n",
       "    </tr>\n",
       "    <tr>\n",
       "      <th>3</th>\n",
       "      <td>1003</td>\n",
       "      <td>62</td>\n",
       "      <td>1133.21</td>\n",
       "      <td>1274.256000</td>\n",
       "      <td>186.975195</td>\n",
       "      <td>1494.30</td>\n",
       "      <td>933.85</td>\n",
       "      <td>10</td>\n",
       "      <td>0.100000</td>\n",
       "      <td>1</td>\n",
       "      <td>0.100000</td>\n",
       "      <td>49742.333333</td>\n",
       "      <td>16793.639198</td>\n",
       "      <td>25476.0</td>\n",
       "      <td>10</td>\n",
       "      <td>0</td>\n",
       "    </tr>\n",
       "    <tr>\n",
       "      <th>4</th>\n",
       "      <td>1004</td>\n",
       "      <td>75</td>\n",
       "      <td>746.37</td>\n",
       "      <td>999.230000</td>\n",
       "      <td>1635.026775</td>\n",
       "      <td>6122.89</td>\n",
       "      <td>10.00</td>\n",
       "      <td>12</td>\n",
       "      <td>0.083333</td>\n",
       "      <td>2</td>\n",
       "      <td>0.250000</td>\n",
       "      <td>29171.363636</td>\n",
       "      <td>12017.809977</td>\n",
       "      <td>4982.0</td>\n",
       "      <td>12</td>\n",
       "      <td>1</td>\n",
       "    </tr>\n",
       "  </tbody>\n",
       "</table>\n",
       "</div>"
      ],
      "text/plain": [
       "   user_id  transaction_id  current_amount  mean_amount   std_amount  \\\n",
       "0     1000              19          783.83  1551.085556  2333.778202   \n",
       "1     1001              32         1891.62  1938.394167    99.750317   \n",
       "2     1002              51         1603.78  1540.666667   253.946267   \n",
       "3     1003              62         1133.21  1274.256000   186.975195   \n",
       "4     1004              75          746.37   999.230000  1635.026775   \n",
       "\n",
       "   max_amount  min_amount  unique_devices  primary_device_ratio  \\\n",
       "0    10883.86      741.77              18              0.055556   \n",
       "1     2097.52     1746.40              12              0.083333   \n",
       "2     2028.60     1128.81              18              0.055556   \n",
       "3     1494.30      933.85              10              0.100000   \n",
       "4     6122.89       10.00              12              0.083333   \n",
       "\n",
       "   unique_locations  location_switch_rate  time_diff_mean  time_diff_std  \\\n",
       "0                 1              0.055556    49584.647059   23340.770320   \n",
       "1                 1              0.083333    36834.090909   22294.896503   \n",
       "2                 1              0.055556    42734.764706   28187.013973   \n",
       "3                 1              0.100000    49742.333333   16793.639198   \n",
       "4                 2              0.250000    29171.363636   12017.809977   \n",
       "\n",
       "   min_time_gap  txn_count  is_fraud  \n",
       "0        5052.0         18         1  \n",
       "1        5958.0         12         0  \n",
       "2        2522.0         18         0  \n",
       "3       25476.0         10         0  \n",
       "4        4982.0         12         1  "
      ]
     },
     "execution_count": 2,
     "metadata": {},
     "output_type": "execute_result"
    }
   ],
   "source": [
    "df = pd.read_csv(\"grouped_upi_dynamic.csv\")\n",
    "df.head()"
   ]
  },
  {
   "cell_type": "code",
   "execution_count": 3,
   "id": "cb5d73b7",
   "metadata": {},
   "outputs": [
    {
     "name": "stdout",
     "output_type": "stream",
     "text": [
      "<class 'pandas.core.frame.DataFrame'>\n",
      "RangeIndex: 5000 entries, 0 to 4999\n",
      "Data columns (total 16 columns):\n",
      " #   Column                Non-Null Count  Dtype  \n",
      "---  ------                --------------  -----  \n",
      " 0   user_id               5000 non-null   int64  \n",
      " 1   transaction_id        5000 non-null   int64  \n",
      " 2   current_amount        5000 non-null   float64\n",
      " 3   mean_amount           5000 non-null   float64\n",
      " 4   std_amount            5000 non-null   float64\n",
      " 5   max_amount            5000 non-null   float64\n",
      " 6   min_amount            5000 non-null   float64\n",
      " 7   unique_devices        5000 non-null   int64  \n",
      " 8   primary_device_ratio  5000 non-null   float64\n",
      " 9   unique_locations      5000 non-null   int64  \n",
      " 10  location_switch_rate  5000 non-null   float64\n",
      " 11  time_diff_mean        5000 non-null   float64\n",
      " 12  time_diff_std         5000 non-null   float64\n",
      " 13  min_time_gap          5000 non-null   float64\n",
      " 14  txn_count             5000 non-null   int64  \n",
      " 15  is_fraud              5000 non-null   int64  \n",
      "dtypes: float64(10), int64(6)\n",
      "memory usage: 625.1 KB\n"
     ]
    }
   ],
   "source": [
    "df.info()"
   ]
  },
  {
   "cell_type": "code",
   "execution_count": 4,
   "id": "a21c2279",
   "metadata": {},
   "outputs": [],
   "source": [
    "df = df.drop([\"transaction_id\",\"user_id\"], axis=1)"
   ]
  },
  {
   "cell_type": "code",
   "execution_count": null,
   "id": "e429cdc3",
   "metadata": {},
   "outputs": [],
   "source": []
  },
  {
   "cell_type": "code",
   "execution_count": 5,
   "id": "5be7fe09",
   "metadata": {},
   "outputs": [],
   "source": [
    "X = df.drop(\"is_fraud\", axis=1)\n",
    "y = df[\"is_fraud\"]"
   ]
  },
  {
   "cell_type": "code",
   "execution_count": 30,
   "id": "7c3adf54",
   "metadata": {},
   "outputs": [
    {
     "name": "stdout",
     "output_type": "stream",
     "text": [
      "<class 'pandas.core.frame.DataFrame'>\n",
      "RangeIndex: 5000 entries, 0 to 4999\n",
      "Data columns (total 13 columns):\n",
      " #   Column                Non-Null Count  Dtype  \n",
      "---  ------                --------------  -----  \n",
      " 0   current_amount        5000 non-null   float64\n",
      " 1   mean_amount           5000 non-null   float64\n",
      " 2   std_amount            5000 non-null   float64\n",
      " 3   max_amount            5000 non-null   float64\n",
      " 4   min_amount            5000 non-null   float64\n",
      " 5   unique_devices        5000 non-null   int64  \n",
      " 6   primary_device_ratio  5000 non-null   float64\n",
      " 7   unique_locations      5000 non-null   int64  \n",
      " 8   location_switch_rate  5000 non-null   float64\n",
      " 9   time_diff_mean        5000 non-null   float64\n",
      " 10  time_diff_std         5000 non-null   float64\n",
      " 11  min_time_gap          5000 non-null   float64\n",
      " 12  txn_count             5000 non-null   int64  \n",
      "dtypes: float64(10), int64(3)\n",
      "memory usage: 507.9 KB\n"
     ]
    }
   ],
   "source": [
    "X.info()"
   ]
  },
  {
   "cell_type": "code",
   "execution_count": 6,
   "id": "34542b08",
   "metadata": {},
   "outputs": [
    {
     "data": {
      "text/plain": [
       "0       1\n",
       "1       0\n",
       "2       0\n",
       "3       0\n",
       "4       1\n",
       "       ..\n",
       "4995    0\n",
       "4996    0\n",
       "4997    0\n",
       "4998    0\n",
       "4999    0\n",
       "Name: is_fraud, Length: 5000, dtype: int64"
      ]
     },
     "execution_count": 6,
     "metadata": {},
     "output_type": "execute_result"
    }
   ],
   "source": [
    "y"
   ]
  },
  {
   "cell_type": "code",
   "execution_count": 7,
   "id": "6acfc561",
   "metadata": {},
   "outputs": [
    {
     "name": "stdout",
     "output_type": "stream",
     "text": [
      "4285 715\n"
     ]
    }
   ],
   "source": [
    "z=0\n",
    "o=0\n",
    "for i in y:\n",
    "    if i==0:\n",
    "        z+=1\n",
    "    else:\n",
    "        o+=1\n",
    "print(z , o)"
   ]
  },
  {
   "cell_type": "code",
   "execution_count": 14,
   "metadata": {},
   "outputs": [],
   "source": [
    "scaler = StandardScaler()\n",
    "X_scaled = scaler.fit_transform(X)"
   ]
  },
  {
   "cell_type": "code",
   "execution_count": 8,
   "id": "b3d1faf0",
   "metadata": {},
   "outputs": [],
   "source": [
    "X_train, X_test, y_train, y_test = train_test_split(\n",
    "    X, y, test_size=0.2, stratify=y, random_state=42\n",
    ")"
   ]
  },
  {
   "cell_type": "code",
   "execution_count": 9,
   "id": "fcaf6646",
   "metadata": {},
   "outputs": [],
   "source": [
    "models = {\n",
    "    \"Logistic Regression\": LogisticRegression(max_iter=500, class_weight=\"balanced\"),\n",
    "    \"Random Forest\": RandomForestClassifier(\n",
    "        n_estimators=200, max_depth=10, random_state=42, class_weight=\"balanced\"\n",
    "    ),\n",
    "    \"Decision Tree\": DecisionTreeClassifier(\n",
    "        max_depth=10, random_state=42, class_weight=\"balanced\"\n",
    "    ),\n",
    "    \"XGBoost\": xgb.XGBClassifier(\n",
    "        n_estimators=200, max_depth=8, learning_rate=0.1, \n",
    "        scale_pos_weight=(len(y_train)-sum(y_train))/sum(y_train), # handle imbalance\n",
    "        use_label_encoder=False, eval_metric=\"logloss\", random_state=42\n",
    "    ),\n",
    "}"
   ]
  },
  {
   "cell_type": "code",
   "execution_count": 10,
   "id": "0bf75cd2",
   "metadata": {},
   "outputs": [
    {
     "name": "stdout",
     "output_type": "stream",
     "text": [
      "Training Logistic Regression...\n",
      "Training Random Forest...\n",
      "Training Decision Tree...\n",
      "Training XGBoost...\n"
     ]
    },
    {
     "name": "stderr",
     "output_type": "stream",
     "text": [
      "/home/Shiva-Arch/Desktop/UPI fraud Detection/venv/lib/python3.13/site-packages/xgboost/training.py:183: UserWarning: [22:37:16] WARNING: /workspace/src/learner.cc:738: \n",
      "Parameters: { \"use_label_encoder\" } are not used.\n",
      "\n",
      "  bst.update(dtrain, iteration=i, fobj=obj)\n"
     ]
    }
   ],
   "source": [
    "results = {}\n",
    "for name, model in models.items():\n",
    "    print(f\"Training {name}...\")\n",
    "    model.fit(X_train, y_train)\n",
    "    y_pred = model.predict(X_test)\n",
    "    y_pred_proba = model.predict_proba(X_test)[:, 1]\n",
    "    \n",
    "    report = classification_report(y_test, y_pred, digits=4, output_dict=True)\n",
    "    auc = roc_auc_score(y_test, y_pred_proba)\n",
    "    \n",
    "    results[name] = {\n",
    "        \"Precision\": report[\"1\"][\"precision\"],\n",
    "        \"Recall\": report[\"1\"][\"recall\"],\n",
    "        \"F1-score\": report[\"1\"][\"f1-score\"],\n",
    "        \"ROC-AUC\": auc\n",
    "    }"
   ]
  },
  {
   "cell_type": "code",
   "execution_count": 11,
   "id": "cc42d358",
   "metadata": {},
   "outputs": [
    {
     "name": "stdout",
     "output_type": "stream",
     "text": [
      "Model Comparison:\n",
      "                     Precision    Recall  F1-score   ROC-AUC\n",
      "Logistic Regression        1.0  0.993007  0.996491  0.999992\n",
      "Random Forest              1.0  0.993007  0.996491  1.000000\n",
      "Decision Tree              1.0  1.000000  1.000000  1.000000\n",
      "XGBoost                    1.0  1.000000  1.000000  1.000000\n"
     ]
    }
   ],
   "source": [
    "comparison_df = pd.DataFrame(results).T\n",
    "print(\"Model Comparison:\")\n",
    "print(comparison_df)"
   ]
  },
  {
   "cell_type": "code",
   "execution_count": 19,
   "id": "044a9b82",
   "metadata": {},
   "outputs": [
    {
     "name": "stdout",
     "output_type": "stream",
     "text": [
      "Requirement already satisfied: matplotlib in ./venv/lib/python3.13/site-packages (3.10.6)\n",
      "Requirement already satisfied: contourpy>=1.0.1 in ./venv/lib/python3.13/site-packages (from matplotlib) (1.3.3)\n",
      "Requirement already satisfied: cycler>=0.10 in ./venv/lib/python3.13/site-packages (from matplotlib) (0.12.1)\n",
      "Requirement already satisfied: fonttools>=4.22.0 in ./venv/lib/python3.13/site-packages (from matplotlib) (4.59.2)\n",
      "Requirement already satisfied: kiwisolver>=1.3.1 in ./venv/lib/python3.13/site-packages (from matplotlib) (1.4.9)\n",
      "Requirement already satisfied: numpy>=1.23 in ./venv/lib/python3.13/site-packages (from matplotlib) (2.3.2)\n",
      "Requirement already satisfied: packaging>=20.0 in ./venv/lib/python3.13/site-packages (from matplotlib) (25.0)\n",
      "Requirement already satisfied: pillow>=8 in ./venv/lib/python3.13/site-packages (from matplotlib) (11.3.0)\n",
      "Requirement already satisfied: pyparsing>=2.3.1 in ./venv/lib/python3.13/site-packages (from matplotlib) (3.2.3)\n",
      "Requirement already satisfied: python-dateutil>=2.7 in ./venv/lib/python3.13/site-packages (from matplotlib) (2.9.0.post0)\n",
      "Requirement already satisfied: six>=1.5 in ./venv/lib/python3.13/site-packages (from python-dateutil>=2.7->matplotlib) (1.17.0)\n",
      "\n",
      "\u001b[1m[\u001b[0m\u001b[34;49mnotice\u001b[0m\u001b[1;39;49m]\u001b[0m\u001b[39;49m A new release of pip is available: \u001b[0m\u001b[31;49m25.1.1\u001b[0m\u001b[39;49m -> \u001b[0m\u001b[32;49m25.2\u001b[0m\n",
      "\u001b[1m[\u001b[0m\u001b[34;49mnotice\u001b[0m\u001b[1;39;49m]\u001b[0m\u001b[39;49m To update, run: \u001b[0m\u001b[32;49mpip install --upgrade pip\u001b[0m\n",
      "Note: you may need to restart the kernel to use updated packages.\n"
     ]
    }
   ],
   "source": [
    "pip install matplotlib"
   ]
  },
  {
   "cell_type": "code",
   "execution_count": 12,
   "id": "708f1196",
   "metadata": {},
   "outputs": [
    {
     "data": {
      "image/png": "[encoded data removed]",
      "text/plain": [
       "<Figure size 1000x600 with 1 Axes>"
      ]
     },
     "metadata": {},
     "output_type": "display_data"
    }
   ],
   "source": [
    "import matplotlib.pyplot as plt\n",
    "\n",
    "# Plot Precision, Recall, F1-score, and ROC-AUC for each model\n",
    "comparison_df.plot(kind=\"bar\", figsize=(10,6))\n",
    "\n",
    "plt.title(\"Model Performance Comparison\")\n",
    "plt.ylabel(\"Score\")\n",
    "plt.ylim(0.9, 1.0)   # since your scores are all very high\n",
    "plt.xticks(rotation=45, ha=\"right\")\n",
    "plt.legend(loc=\"lower right\")\n",
    "plt.grid(axis=\"y\", linestyle=\"--\", alpha=0.7)\n",
    "\n",
    "plt.show()\n"
   ]
  },
  {
   "cell_type": "code",
   "execution_count": 13,
   "id": "5a6e77c1",
   "metadata": {},
   "outputs": [
    {
     "name": "stdout",
     "output_type": "stream",
     "text": [
      "Accuracy: 1.0\n",
      "ROC-AUC: 1.0\n",
      "\n",
      "Classification Report:\n",
      "               precision    recall  f1-score   support\n",
      "\n",
      "           0       1.00      1.00      1.00       857\n",
      "           1       1.00      1.00      1.00       143\n",
      "\n",
      "    accuracy                           1.00      1000\n",
      "   macro avg       1.00      1.00      1.00      1000\n",
      "weighted avg       1.00      1.00      1.00      1000\n",
      "\n",
      "\n",
      "Confusion Matrix:\n",
      " [[857   0]\n",
      " [  0 143]]\n"
     ]
    },
    {
     "name": "stderr",
     "output_type": "stream",
     "text": [
      "/home/Shiva-Arch/Desktop/UPI fraud Detection/venv/lib/python3.13/site-packages/xgboost/training.py:183: UserWarning: [22:37:23] WARNING: /workspace/src/learner.cc:738: \n",
      "Parameters: { \"use_label_encoder\" } are not used.\n",
      "\n",
      "  bst.update(dtrain, iteration=i, fobj=obj)\n"
     ]
    }
   ],
   "source": [
    "from sklearn.metrics import classification_report, confusion_matrix, roc_auc_score, accuracy_score\n",
    "# Choose best model (say XGBoost here)\n",
    "best_model = xgb.XGBClassifier(use_label_encoder=False, eval_metric='logloss', random_state=42)\n",
    "best_model.fit(X_train, y_train)\n",
    "\n",
    "# Predictions\n",
    "y_pred = best_model.predict(X_test)\n",
    "y_proba = best_model.predict_proba(X_test)[:, 1]\n",
    "\n",
    "# Metrics\n",
    "print(\"Accuracy:\", accuracy_score(y_test, y_pred))\n",
    "print(\"ROC-AUC:\", roc_auc_score(y_test, y_proba))\n",
    "print(\"\\nClassification Report:\\n\", classification_report(y_test, y_pred))\n",
    "print(\"\\nConfusion Matrix:\\n\", confusion_matrix(y_test, y_pred))"
   ]
  },
  {
   "cell_type": "code",
   "execution_count": 24,
   "id": "b3b79bb3",
   "metadata": {},
   "outputs": [],
   "source": [
    "df = pd.DataFrame([\n",
    "    {\"transaction_id\": 1, \"user_id\": 1000, \"transaction_amount\": 1120.50, \"merchant_id\": 321, \"device_id\": 6102, \"transaction_time\": \"2023-01-02 09:12:11\", \"location\": \"Chennai\"},\n",
    "    {\"transaction_id\": 2, \"user_id\": 1000, \"transaction_amount\": 890.30,  \"merchant_id\": 654, \"device_id\": 6220, \"transaction_time\": \"2023-01-02 17:45:26\", \"location\": \"Chennai\"},\n",
    "    {\"transaction_id\": 3, \"user_id\": 1000, \"transaction_amount\": 1345.75, \"merchant_id\": 478, \"device_id\": 6450, \"transaction_time\": \"2023-01-03 08:01:19\", \"location\": \"Chennai\"},\n",
    "    {\"transaction_id\": 4, \"user_id\": 1000, \"transaction_amount\": 760.90,  \"merchant_id\": 812, \"device_id\": 6599, \"transaction_time\": \"2023-01-03 22:14:40\", \"location\": \"Chennai\"},\n",
    "    {\"transaction_id\": 5, \"user_id\": 1000, \"transaction_amount\": 1189.20, \"merchant_id\": 233, \"device_id\": 6021, \"transaction_time\": \"2023-01-04 10:29:55\", \"location\": \"Chennai\"},\n",
    "    {\"transaction_id\": 6, \"user_id\": 1000, \"transaction_amount\": 1015.00, \"merchant_id\": 567, \"device_id\": 6888, \"transaction_time\": \"2023-01-04 15:43:17\", \"location\": \"Chennai\"},\n",
    "    {\"transaction_id\": 7, \"user_id\": 1000, \"transaction_amount\": 940.80,  \"merchant_id\": 312, \"device_id\": 6990, \"transaction_time\": \"2023-01-05 09:57:32\", \"location\": \"Chennai\"},\n",
    "    {\"transaction_id\": 8, \"user_id\": 1000, \"transaction_amount\": 1230.60, \"merchant_id\": 715, \"device_id\": 6355, \"transaction_time\": \"2023-01-05 19:20:44\", \"location\": \"Chennai\"},\n",
    "    {\"transaction_id\": 9, \"user_id\": 1000, \"transaction_amount\": 875.25,  \"merchant_id\": 289, \"device_id\": 6522, \"transaction_time\": \"2023-01-06 11:35:03\", \"location\": \"Chennai\"},\n",
    "    {\"transaction_id\": 10,\"user_id\": 1000, \"transaction_amount\": 1095.40, \"merchant_id\": 942, \"device_id\": 6671, \"transaction_time\": \"2023-01-06 22:48:29\", \"location\": \"Chennai\"},\n",
    "])"
   ]
  },
  {
   "cell_type": "code",
   "execution_count": 25,
   "id": "7ef1d723",
   "metadata": {},
   "outputs": [],
   "source": [
    "df[\"transaction_time\"] = pd.to_datetime(df[\"transaction_time\"])\n"
   ]
  },
  {
   "cell_type": "code",
   "execution_count": 26,
   "id": "a9d18d35",
   "metadata": {},
   "outputs": [],
   "source": [
    "grouped_features = []\n",
    "for user_id, user_txns in df.groupby(\"user_id\"):\n",
    "    user_txns = user_txns.reset_index(drop=True)\n",
    "\n",
    "    # Use all transactions except the last one for features\n",
    "    history = user_txns.iloc[:-1]\n",
    "    current = user_txns.iloc[-1]   # latest txn\n",
    "\n",
    "    # Build feature dict\n",
    "    time_diffs = history[\"transaction_time\"].diff().dt.total_seconds()\n",
    "    feature_dict = {\n",
    "        \"user_id\": user_id,\n",
    "        \"transaction_id\": current[\"transaction_id\"],\n",
    "        \"current_amount\": current[\"transaction_amount\"],\n",
    "        \"mean_amount\": history[\"transaction_amount\"].mean(),\n",
    "        \"std_amount\": history[\"transaction_amount\"].std(),\n",
    "        \"max_amount\": history[\"transaction_amount\"].max(),\n",
    "        \"min_amount\": history[\"transaction_amount\"].min(),\n",
    "        \"unique_devices\": history[\"device_id\"].nunique(),\n",
    "        \"primary_device_ratio\": (history[\"device_id\"].value_counts().max() / len(history)) if len(history) > 0 else 1.0,\n",
    "        \"unique_locations\": history[\"location\"].nunique(),\n",
    "        \"location_switch_rate\": ((history[\"location\"] != history[\"location\"].shift()).mean()) if len(history) > 1 else 0.0,\n",
    "        \"time_diff_mean\": time_diffs.mean() if len(history) > 1 else 0.0,\n",
    "        \"time_diff_std\": time_diffs.std() if len(history) > 1 else 0.0,\n",
    "        \"min_time_gap\": time_diffs.min() if len(history) > 1 else 0.0,\n",
    "        \"txn_count\": len(history),    }\n",
    "   \n",
    "\n",
    "\n",
    "\n",
    "    grouped_features.append(feature_dict)\n",
    "\n",
    "test_features = pd.DataFrame(grouped_features)\n"
   ]
  },
  {
   "cell_type": "code",
   "execution_count": 27,
   "id": "3e40c570",
   "metadata": {},
   "outputs": [],
   "source": [
    "test_features = test_features.drop([\"user_id\", \"transaction_id\"], axis=1)"
   ]
  },
  {
   "cell_type": "code",
   "execution_count": 28,
   "metadata": {},
   "outputs": [
    {
     "data": {
      "text/html": [
       "<div>\n",
       "<style scoped>\n",
       "    .dataframe tbody tr th:only-of-type {\n",
       "        vertical-align: middle;\n",
       "    }\n",
       "\n",
       "    .dataframe tbody tr th {\n",
       "        vertical-align: top;\n",
       "    }\n",
       "\n",
       "    .dataframe thead th {\n",
       "        text-align: right;\n",
       "    }\n",
       "</style>\n",
       "<table border=\"1\" class=\"dataframe\">\n",
       "  <thead>\n",
       "    <tr style=\"text-align: right;\">\n",
       "      <th></th>\n",
       "      <th>current_amount</th>\n",
       "      <th>mean_amount</th>\n",
       "      <th>std_amount</th>\n",
       "      <th>max_amount</th>\n",
       "      <th>min_amount</th>\n",
       "      <th>unique_devices</th>\n",
       "      <th>primary_device_ratio</th>\n",
       "      <th>unique_locations</th>\n",
       "      <th>location_switch_rate</th>\n",
       "      <th>time_diff_mean</th>\n",
       "      <th>time_diff_std</th>\n",
       "      <th>min_time_gap</th>\n",
       "      <th>txn_count</th>\n",
       "    </tr>\n",
       "  </thead>\n",
       "  <tbody>\n",
       "    <tr>\n",
       "      <th>0</th>\n",
       "      <td>1095.4</td>\n",
       "      <td>1040.922222</td>\n",
       "      <td>192.503169</td>\n",
       "      <td>1345.75</td>\n",
       "      <td>760.9</td>\n",
       "      <td>9</td>\n",
       "      <td>0.111111</td>\n",
       "      <td>1</td>\n",
       "      <td>0.111111</td>\n",
       "      <td>44271.5</td>\n",
       "      <td>15569.479008</td>\n",
       "      <td>18802.0</td>\n",
       "      <td>9</td>\n",
       "    </tr>\n",
       "  </tbody>\n",
       "</table>\n",
       "</div>"
      ],
      "text/plain": [
       "   current_amount  mean_amount  std_amount  max_amount  min_amount  \\\n",
       "0          1095.4  1040.922222  192.503169     1345.75       760.9   \n",
       "\n",
       "   unique_devices  primary_device_ratio  unique_locations  \\\n",
       "0               9              0.111111                 1   \n",
       "\n",
       "   location_switch_rate  time_diff_mean  time_diff_std  min_time_gap  \\\n",
       "0              0.111111         44271.5   15569.479008       18802.0   \n",
       "\n",
       "   txn_count  \n",
       "0          9  "
      ]
     },
     "execution_count": 28,
     "metadata": {},
     "output_type": "execute_result"
    }
   ],
   "source": [
    "test_features"
   ]
  },
  {
   "cell_type": "code",
   "execution_count": 29,
   "id": "a5723015",
   "metadata": {},
   "outputs": [
    {
     "name": "stdout",
     "output_type": "stream",
     "text": [
      "   fraud_prediction  fraud_probability\n",
      "0                 0           0.001852\n"
     ]
    }
   ],
   "source": [
    "y_pred = models[\"Random Forest\"].predict(test_features)\n",
    "y_proba = models[\"Random Forest\"].predict_proba(test_features)[:, 1]\n",
    "\n",
    "test_features[\"fraud_prediction\"] = y_pred\n",
    "test_features[\"fraud_probability\"] = y_proba\n",
    "\n",
    "print(test_features[[\"fraud_prediction\", \"fraud_probability\"]])"
   ]
  },
  {
   "cell_type": "code",
   "execution_count": 30,
   "id": "a03e35e2",
   "metadata": {},
   "outputs": [],
   "source": [
    "best_model = models[\"Random Forest\"]"
   ]
  },
  {
   "cell_type": "code",
   "execution_count": 31,
   "id": "cb0f6cf5",
   "metadata": {},
   "outputs": [
    {
     "name": "stdout",
     "output_type": "stream",
     "text": [
      "Model saved as upi_fraud_model.pkl\n"
     ]
    }
   ],
   "source": [
    "import joblib\n",
    "\n",
    "# assume your trained model is called `best_model`\n",
    "joblib.dump(best_model, \"upi_fraud_model.pkl\")\n",
    "print(\"Model saved as upi_fraud_model.pkl\")\n"
   ]
  }
 ],
 "metadata": {
  "kernelspec": {
   "display_name": "venv (3.13.5)",
   "language": "python",
   "name": "python3"
  },
  "language_info": {
   "codemirror_mode": {
    "name": "ipython",
    "version": 3
   },
   "file_extension": ".py",
   "mimetype": "text/x-python",
   "name": "python",
   "nbconvert_exporter": "python",
   "pygments_lexer": "ipython3",
   "version": "3.13.5"
  }
 },
 "nbformat": 4,
 "nbformat_minor": 5
}
