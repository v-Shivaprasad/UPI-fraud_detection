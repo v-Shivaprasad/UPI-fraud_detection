{
 "cells": [
  {
   "cell_type": "code",
   "execution_count": 1,
   "id": "f81fe2fa",
   "metadata": {},
   "outputs": [
    {
     "name": "stdout",
     "output_type": "stream",
     "text": [
      "Collecting pandas\n",
      "  Downloading pandas-2.3.2-cp313-cp313-manylinux_2_17_x86_64.manylinux2014_x86_64.whl.metadata (91 kB)\n",
      "Collecting numpy\n",
      "  Using cached numpy-2.3.2-cp313-cp313-manylinux_2_27_x86_64.manylinux_2_28_x86_64.whl.metadata (62 kB)\n",
      "Requirement already satisfied: python-dateutil>=2.8.2 in ./venv/lib/python3.13/site-packages (from pandas) (2.9.0.post0)\n",
      "Collecting pytz>=2020.1 (from pandas)\n",
      "  Using cached pytz-2025.2-py2.py3-none-any.whl.metadata (22 kB)\n",
      "Collecting tzdata>=2022.7 (from pandas)\n",
      "  Using cached tzdata-2025.2-py2.py3-none-any.whl.metadata (1.4 kB)\n",
      "Requirement already satisfied: six>=1.5 in ./venv/lib/python3.13/site-packages (from python-dateutil>=2.8.2->pandas) (1.17.0)\n",
      "Downloading pandas-2.3.2-cp313-cp313-manylinux_2_17_x86_64.manylinux2014_x86_64.whl (12.1 MB)\n",
      "\u001b[2K   \u001b[90m━━━━━━━━━━━━━━━━━━━━━━━━━━━━━━━━━━━━━━━━\u001b[0m \u001b[32m12.1/12.1 MB\u001b[0m \u001b[31m562.5 kB/s\u001b[0m eta \u001b[36m0:00:00\u001b[0m00:01\u001b[0m00:01\u001b[0m\n",
      "\u001b[?25hUsing cached numpy-2.3.2-cp313-cp313-manylinux_2_27_x86_64.manylinux_2_28_x86_64.whl (16.6 MB)\n",
      "Using cached pytz-2025.2-py2.py3-none-any.whl (509 kB)\n",
      "Using cached tzdata-2025.2-py2.py3-none-any.whl (347 kB)\n",
      "Installing collected packages: pytz, tzdata, numpy, pandas\n",
      "\u001b[2K   \u001b[90m━━━━━━━━━━━━━━━━━━━━━━━━━━━━━━━━━━━━━━━━\u001b[0m \u001b[32m4/4\u001b[0m [pandas]2m3/4\u001b[0m [pandas]\n",
      "\u001b[1A\u001b[2KSuccessfully installed numpy-2.3.2 pandas-2.3.2 pytz-2025.2 tzdata-2025.2\n",
      "\n",
      "\u001b[1m[\u001b[0m\u001b[34;49mnotice\u001b[0m\u001b[1;39;49m]\u001b[0m\u001b[39;49m A new release of pip is available: \u001b[0m\u001b[31;49m25.1.1\u001b[0m\u001b[39;49m -> \u001b[0m\u001b[32;49m25.2\u001b[0m\n",
      "\u001b[1m[\u001b[0m\u001b[34;49mnotice\u001b[0m\u001b[1;39;49m]\u001b[0m\u001b[39;49m To update, run: \u001b[0m\u001b[32;49mpip install --upgrade pip\u001b[0m\n"
     ]
    }
   ],
   "source": [
    "!pip install pandas numpy"
   ]
  },
  {
   "cell_type": "code",
   "execution_count": 1,
   "id": "8451042a",
   "metadata": {},
   "outputs": [],
   "source": [
    "import pandas as pd\n",
    "import numpy as np\n",
    "\n",
    "np.random.seed(42)"
   ]
  },
  {
   "cell_type": "code",
   "execution_count": null,
   "id": "d200b315",
   "metadata": {},
   "outputs": [],
   "source": [
    "n_users = 5000\n",
    "min_txns, max_txns = 10, 20 \n",
    "fraud_user_ratio = 0.2     \n",
    "all_locations = [\"Delhi\", \"Mumbai\", \"Hyderabad\", \"Chennai\", \"Bangalore\", \"Kolkata\"]"
   ]
  },
  {
   "cell_type": "code",
   "execution_count": 4,
   "id": "f148892e",
   "metadata": {},
   "outputs": [],
   "source": [
    "user_profiles = pd.DataFrame({\n",
    "    \"user_id\": np.arange(1000, 1000 + n_users),\n",
    "    \"avg_amount\": np.random.uniform(300, 2000, n_users),\n",
    "    \"std_amount\": np.random.uniform(50, 300, n_users),\n",
    "    \"home_location\": np.random.choice(all_locations, n_users),\n",
    "    \"is_traveler\": np.random.choice([0, 1], n_users, p=[0.8, 0.2])  # 20% frequent travelers\n",
    "})"
   ]
  },
  {
   "cell_type": "code",
   "execution_count": 5,
   "id": "cc5a5698",
   "metadata": {},
   "outputs": [],
   "source": [
    "transactions = []\n",
    "txn_id = 1"
   ]
  },
  {
   "cell_type": "code",
   "execution_count": 6,
   "id": "12ae7b63",
   "metadata": {},
   "outputs": [],
   "source": [
    "fraud_users = set(np.random.choice(user_profiles[\"user_id\"], int(fraud_user_ratio * n_users), replace=False))"
   ]
  },
  {
   "cell_type": "code",
   "execution_count": 7,
   "id": "8a39da0f",
   "metadata": {},
   "outputs": [],
   "source": [
    "for _, user in user_profiles.iterrows():\n",
    "    n_txns = np.random.randint(min_txns, max_txns + 1)\n",
    "    last_ts = pd.Timestamp(\"2023-01-01\").value // 10**9\n",
    "\n",
    "    fraud_injected = False\n",
    "\n",
    "    for i in range(n_txns):\n",
    "        # Base amount\n",
    "        amount = np.random.normal(user[\"avg_amount\"], user[\"std_amount\"])\n",
    "        amount = max(10, round(amount, 2))\n",
    "\n",
    "        # Location\n",
    "        if user[\"is_traveler\"] and np.random.rand() < 0.3:\n",
    "            location = np.random.choice(all_locations)\n",
    "        else:\n",
    "            location = user[\"home_location\"]\n",
    "\n",
    "        # Device / Merchant\n",
    "        device_id = np.random.randint(5000, 7000)\n",
    "        merchant_id = np.random.randint(200, 1000)\n",
    "\n",
    "        # Time (add random gap)\n",
    "        gap = np.random.randint(60, 60 * 60 * 24)  # 1 min – 1 day\n",
    "        ts = last_ts + gap\n",
    "        last_ts = ts\n",
    "        txn_time = pd.to_datetime(ts, unit=\"s\")\n",
    "\n",
    "        fraud = 0\n",
    "\n",
    "        # Fraud injection if:\n",
    "        # - user is in fraud_users\n",
    "        # - OR randomly by 4% chance\n",
    "        if (user[\"user_id\"] in fraud_users and not fraud_injected and i > 2) or (np.random.rand() < 0.04):\n",
    "            fraud = 1\n",
    "            fraud_injected = True\n",
    "            fraud_type = np.random.choice([\"high_amount\", \"burst\", \"loc_device_change\"])\n",
    "            if fraud_type == \"high_amount\":\n",
    "                amount = round(user[\"avg_amount\"] * np.random.uniform(8, 20), 2)\n",
    "            elif fraud_type == \"burst\":\n",
    "                amount = round(user[\"avg_amount\"] * np.random.uniform(5, 15), 2)\n",
    "                ts = last_ts + np.random.randint(1, 120)  # within 2 mins\n",
    "                last_ts = ts\n",
    "                txn_time = pd.to_datetime(ts, unit=\"s\")\n",
    "            elif fraud_type == \"loc_device_change\":\n",
    "                locs = [l for l in all_locations if l != user[\"home_location\"]]\n",
    "                location = np.random.choice(locs)\n",
    "                device_id = np.random.randint(7000, 8000)\n",
    "                amount = round(user[\"avg_amount\"] * np.random.uniform(5, 15), 2)\n",
    "\n",
    "        # Append transaction\n",
    "        transactions.append({\n",
    "            \"transaction_id\": txn_id,\n",
    "            \"user_id\": user[\"user_id\"],\n",
    "            \"transaction_amount\": amount,\n",
    "            \"merchant_id\": merchant_id,\n",
    "            \"device_id\": device_id,\n",
    "            \"transaction_time\": txn_time,\n",
    "            \"location\": location,\n",
    "            \"is_fraud\": fraud\n",
    "        })\n",
    "        txn_id += 1"
   ]
  },
  {
   "cell_type": "code",
   "execution_count": 8,
   "id": "ebf951ed",
   "metadata": {},
   "outputs": [],
   "source": [
    "upi_behavior_df = pd.DataFrame(transactions)"
   ]
  },
  {
   "cell_type": "code",
   "execution_count": 9,
   "id": "c6265cbb",
   "metadata": {},
   "outputs": [],
   "source": [
    "fraud_score = np.clip(\n",
    "    upi_behavior_df[\"is_fraud\"] * np.random.uniform(0.7, 1.0, len(upi_behavior_df)) +\n",
    "    (1 - upi_behavior_df[\"is_fraud\"]) * np.random.uniform(0.0, 0.3, len(upi_behavior_df)), \n",
    "    0, 1\n",
    ")"
   ]
  },
  {
   "cell_type": "code",
   "execution_count": 10,
   "id": "8a845e39",
   "metadata": {},
   "outputs": [],
   "source": [
    "upi_behavior_df[\"fraud_score\"] = fraud_score"
   ]
  },
  {
   "cell_type": "code",
   "execution_count": 13,
   "id": "8eef065f",
   "metadata": {},
   "outputs": [
    {
     "name": "stdout",
     "output_type": "stream",
     "text": [
      " Dataset shape: (29842, 9)\n"
     ]
    }
   ],
   "source": [
    "print(\" Dataset shape:\", upi_behavior_df.shape)"
   ]
  },
  {
   "cell_type": "code",
   "execution_count": 12,
   "id": "5b2ad204",
   "metadata": {},
   "outputs": [
    {
     "name": "stdout",
     "output_type": "stream",
     "text": [
      "Users with at least 1 fraud: 1097\n"
     ]
    }
   ],
   "source": [
    "print(\"Users with at least 1 fraud:\", upi_behavior_df.groupby(\"user_id\")[\"is_fraud\"].max().sum())"
   ]
  },
  {
   "cell_type": "code",
   "execution_count": 14,
   "id": "51cd69f9",
   "metadata": {},
   "outputs": [
    {
     "name": "stdout",
     "output_type": "stream",
     "text": [
      "user_id\n",
      "1000    18\n",
      "1001    20\n",
      "1002    16\n",
      "1003    12\n",
      "1004    15\n",
      "1005    13\n",
      "1006    18\n",
      "1007    20\n",
      "1008    20\n",
      "1009    10\n",
      "1010    14\n",
      "1011    17\n",
      "1012    15\n",
      "1013    13\n",
      "1014    18\n",
      "1015    13\n",
      "1016    19\n",
      "1017    16\n",
      "1018    17\n",
      "1019    13\n",
      "dtype: int64\n"
     ]
    }
   ],
   "source": [
    "print(upi_behavior_df.groupby(\"user_id\").size().head(20))"
   ]
  },
  {
   "cell_type": "code",
   "execution_count": 15,
   "id": "f30170a2",
   "metadata": {},
   "outputs": [
    {
     "name": "stdout",
     "output_type": "stream",
     "text": [
      "    transaction_id  user_id  transaction_amount  merchant_id  device_id  \\\n",
      "0                1     1000              793.07          533       5501   \n",
      "1                2     1000              988.64          778       6481   \n",
      "2                3     1000              931.95          421       5558   \n",
      "3                4     1000              766.52          434       6182   \n",
      "4                5     1000             1039.50          686       5478   \n",
      "5                6     1000              946.32          205       6526   \n",
      "6                7     1000              857.47          421       5873   \n",
      "7                8     1000             1071.00          740       6588   \n",
      "8                9     1000              927.19          460       5185   \n",
      "9               10     1000              928.95          423       5761   \n",
      "10              11     1000              817.40          409       6646   \n",
      "11              12     1000              905.02          922       6244   \n",
      "12              13     1000              903.59          233       5132   \n",
      "13              14     1000             1069.51          791       6222   \n",
      "14              15     1000             1085.86          987       6835   \n",
      "\n",
      "      transaction_time location  is_fraud  fraud_score  \n",
      "0  2023-01-01 02:56:23   Mumbai         0     0.073449  \n",
      "1  2023-01-01 15:21:28   Mumbai         0     0.074350  \n",
      "2  2023-01-02 05:27:36   Mumbai         0     0.098312  \n",
      "3  2023-01-02 07:22:01   Mumbai         0     0.260803  \n",
      "4  2023-01-02 11:44:42   Mumbai         0     0.171231  \n",
      "5  2023-01-02 23:29:46   Mumbai         0     0.144619  \n",
      "6  2023-01-03 10:54:17   Mumbai         0     0.098922  \n",
      "7  2023-01-03 19:10:31   Mumbai         0     0.289029  \n",
      "8  2023-01-04 17:10:11   Mumbai         0     0.250542  \n",
      "9  2023-01-04 19:49:02   Mumbai         0     0.250177  \n",
      "10 2023-01-05 19:00:58   Mumbai         0     0.099489  \n",
      "11 2023-01-06 00:39:07   Mumbai         0     0.140308  \n",
      "12 2023-01-06 20:49:38   Mumbai         0     0.269735  \n",
      "13 2023-01-07 15:12:36   Mumbai         0     0.210945  \n",
      "14 2023-01-07 16:04:36   Mumbai         0     0.134876  \n"
     ]
    }
   ],
   "source": [
    "print(upi_behavior_df.head(15))"
   ]
  },
  {
   "cell_type": "code",
   "execution_count": 17,
   "id": "5204fba8",
   "metadata": {},
   "outputs": [],
   "source": [
    "upi_behavior_df.to_csv(\"upi.csv\", index=False)"
   ]
  }
 ],
 "metadata": {
  "kernelspec": {
   "display_name": "venv (3.13.5)",
   "language": "python",
   "name": "python3"
  },
  "language_info": {
   "codemirror_mode": {
    "name": "ipython",
    "version": 3
   },
   "file_extension": ".py",
   "mimetype": "text/x-python",
   "name": "python",
   "nbconvert_exporter": "python",
   "pygments_lexer": "ipython3",
   "version": "3.13.5"
  }
 },
 "nbformat": 4,
 "nbformat_minor": 5
}
