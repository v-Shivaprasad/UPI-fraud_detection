{
 "cells": [
  {
   "cell_type": "code",
   "execution_count": 1,
   "id": "6db4204e",
   "metadata": {},
   "outputs": [
    {
     "name": "stdout",
     "output_type": "stream",
     "text": [
      "Collecting scikit-learn\n",
      "  Using cached scikit_learn-1.7.1-cp313-cp313-manylinux2014_x86_64.manylinux_2_17_x86_64.whl.metadata (11 kB)\n",
      "Requirement already satisfied: numpy>=1.22.0 in ./venv/lib/python3.13/site-packages (from scikit-learn) (2.3.2)\n",
      "Collecting scipy>=1.8.0 (from scikit-learn)\n",
      "  Using cached scipy-1.16.1-cp313-cp313-manylinux2014_x86_64.manylinux_2_17_x86_64.whl.metadata (61 kB)\n",
      "Collecting joblib>=1.2.0 (from scikit-learn)\n",
      "  Downloading joblib-1.5.2-py3-none-any.whl.metadata (5.6 kB)\n",
      "Collecting threadpoolctl>=3.1.0 (from scikit-learn)\n",
      "  Using cached threadpoolctl-3.6.0-py3-none-any.whl.metadata (13 kB)\n",
      "Using cached scikit_learn-1.7.1-cp313-cp313-manylinux2014_x86_64.manylinux_2_17_x86_64.whl (9.4 MB)\n",
      "Downloading joblib-1.5.2-py3-none-any.whl (308 kB)\n",
      "Using cached scipy-1.16.1-cp313-cp313-manylinux2014_x86_64.manylinux_2_17_x86_64.whl (35.2 MB)\n",
      "Using cached threadpoolctl-3.6.0-py3-none-any.whl (18 kB)\n",
      "Installing collected packages: threadpoolctl, scipy, joblib, scikit-learn\n",
      "\u001b[2K   \u001b[90m━━━━━━━━━━━━━━━━━━━━━━━━━━━━━━━━━━━━━━━━\u001b[0m \u001b[32m4/4\u001b[0m [scikit-learn][0m [scikit-learn]\n",
      "\u001b[1A\u001b[2KSuccessfully installed joblib-1.5.2 scikit-learn-1.7.1 scipy-1.16.1 threadpoolctl-3.6.0\n",
      "\n",
      "\u001b[1m[\u001b[0m\u001b[34;49mnotice\u001b[0m\u001b[1;39;49m]\u001b[0m\u001b[39;49m A new release of pip is available: \u001b[0m\u001b[31;49m25.1.1\u001b[0m\u001b[39;49m -> \u001b[0m\u001b[32;49m25.2\u001b[0m\n",
      "\u001b[1m[\u001b[0m\u001b[34;49mnotice\u001b[0m\u001b[1;39;49m]\u001b[0m\u001b[39;49m To update, run: \u001b[0m\u001b[32;49mpip install --upgrade pip\u001b[0m\n",
      "Note: you may need to restart the kernel to use updated packages.\n"
     ]
    }
   ],
   "source": [
    "pip install scikit-learn"
   ]
  },
  {
   "cell_type": "code",
   "execution_count": 2,
   "id": "efed4746",
   "metadata": {},
   "outputs": [
    {
     "name": "stdout",
     "output_type": "stream",
     "text": [
      "Collecting xgboost\n",
      "  Downloading xgboost-3.0.4-py3-none-manylinux_2_28_x86_64.whl.metadata (2.1 kB)\n",
      "Requirement already satisfied: numpy in ./venv/lib/python3.13/site-packages (from xgboost) (2.3.2)\n",
      "Collecting nvidia-nccl-cu12 (from xgboost)\n",
      "  Downloading nvidia_nccl_cu12-2.27.7-py3-none-manylinux2014_x86_64.manylinux_2_17_x86_64.whl.metadata (2.0 kB)\n",
      "Requirement already satisfied: scipy in ./venv/lib/python3.13/site-packages (from xgboost) (1.16.1)\n",
      "Downloading xgboost-3.0.4-py3-none-manylinux_2_28_x86_64.whl (94.9 MB)\n",
      "\u001b[2K   \u001b[90m━━━━━━━━━━━━━━━━━━━━━━━━━━━━━━━━━━━━━━━━\u001b[0m \u001b[32m94.9/94.9 MB\u001b[0m \u001b[31m1.1 MB/s\u001b[0m eta \u001b[36m0:00:00\u001b[0m00:01\u001b[0m00:03\u001b[0m0m\n",
      "\u001b[?25hDownloading nvidia_nccl_cu12-2.27.7-py3-none-manylinux2014_x86_64.manylinux_2_17_x86_64.whl (322.5 MB)\n",
      "\u001b[2K   \u001b[90m━━━━━━━━━━━━━━━━━━━━━━━━━━━━━━━━━━━━━━━\u001b[0m \u001b[32m322.5/322.5 MB\u001b[0m \u001b[31m956.4 kB/s\u001b[0m eta \u001b[36m0:00:00\u001b[0m00:01\u001b[0m0:07\u001b[0mm\n",
      "\u001b[?25hInstalling collected packages: nvidia-nccl-cu12, xgboost\n",
      "\u001b[2K   \u001b[90m━━━━━━━━━━━━━━━━━━━━━━━━━━━━━━━━━━━━━━━━\u001b[0m \u001b[32m2/2\u001b[0m [xgboost]m1/2\u001b[0m [xgboost]\n",
      "\u001b[1A\u001b[2KSuccessfully installed nvidia-nccl-cu12-2.27.7 xgboost-3.0.4\n",
      "\n",
      "\u001b[1m[\u001b[0m\u001b[34;49mnotice\u001b[0m\u001b[1;39;49m]\u001b[0m\u001b[39;49m A new release of pip is available: \u001b[0m\u001b[31;49m25.1.1\u001b[0m\u001b[39;49m -> \u001b[0m\u001b[32;49m25.2\u001b[0m\n",
      "\u001b[1m[\u001b[0m\u001b[34;49mnotice\u001b[0m\u001b[1;39;49m]\u001b[0m\u001b[39;49m To update, run: \u001b[0m\u001b[32;49mpip install --upgrade pip\u001b[0m\n",
      "Note: you may need to restart the kernel to use updated packages.\n"
     ]
    }
   ],
   "source": [
    "pip install xgboost"
   ]
  },
  {
   "cell_type": "code",
   "execution_count": 24,
   "id": "c4e26fac",
   "metadata": {},
   "outputs": [],
   "source": [
    "import pandas as pd\n",
    "import numpy as np\n",
    "from sklearn.model_selection import train_test_split\n",
    "from sklearn.linear_model import LogisticRegression\n",
    "from sklearn.preprocessing import LabelEncoder,StandardScaler\n",
    "from sklearn.ensemble import RandomForestClassifier\n",
    "from sklearn.metrics import classification_report,roc_auc_score\n",
    "import xgboost as xgb\n",
    "from sklearn.tree import DecisionTreeClassifier"
   ]
  },
  {
   "cell_type": "code",
   "execution_count": 25,
   "id": "ddc7fbfa",
   "metadata": {},
   "outputs": [
    {
     "data": {
      "text/html": [
       "<div>\n",
       "<style scoped>\n",
       "    .dataframe tbody tr th:only-of-type {\n",
       "        vertical-align: middle;\n",
       "    }\n",
       "\n",
       "    .dataframe tbody tr th {\n",
       "        vertical-align: top;\n",
       "    }\n",
       "\n",
       "    .dataframe thead th {\n",
       "        text-align: right;\n",
       "    }\n",
       "</style>\n",
       "<table border=\"1\" class=\"dataframe\">\n",
       "  <thead>\n",
       "    <tr style=\"text-align: right;\">\n",
       "      <th></th>\n",
       "      <th>transaction_id</th>\n",
       "      <th>user_id</th>\n",
       "      <th>transaction_amount</th>\n",
       "      <th>merchant_id</th>\n",
       "      <th>device_id</th>\n",
       "      <th>transaction_time</th>\n",
       "      <th>location</th>\n",
       "      <th>is_fraud</th>\n",
       "      <th>fraud_score</th>\n",
       "    </tr>\n",
       "  </thead>\n",
       "  <tbody>\n",
       "    <tr>\n",
       "      <th>0</th>\n",
       "      <td>1</td>\n",
       "      <td>1683</td>\n",
       "      <td>1577.06</td>\n",
       "      <td>298</td>\n",
       "      <td>6094</td>\n",
       "      <td>2023-11-16 23:46:31</td>\n",
       "      <td>Mumbai</td>\n",
       "      <td>0</td>\n",
       "      <td>0.106549</td>\n",
       "    </tr>\n",
       "    <tr>\n",
       "      <th>1</th>\n",
       "      <td>2</td>\n",
       "      <td>1108</td>\n",
       "      <td>646.77</td>\n",
       "      <td>371</td>\n",
       "      <td>6139</td>\n",
       "      <td>2023-01-20 14:54:12</td>\n",
       "      <td>Hyderabad</td>\n",
       "      <td>0</td>\n",
       "      <td>0.171961</td>\n",
       "    </tr>\n",
       "    <tr>\n",
       "      <th>2</th>\n",
       "      <td>3</td>\n",
       "      <td>2889</td>\n",
       "      <td>2076.85</td>\n",
       "      <td>863</td>\n",
       "      <td>6978</td>\n",
       "      <td>2023-03-25 13:38:15</td>\n",
       "      <td>Chennai</td>\n",
       "      <td>0</td>\n",
       "      <td>0.010616</td>\n",
       "    </tr>\n",
       "    <tr>\n",
       "      <th>3</th>\n",
       "      <td>4</td>\n",
       "      <td>2207</td>\n",
       "      <td>807.37</td>\n",
       "      <td>485</td>\n",
       "      <td>6208</td>\n",
       "      <td>2023-09-08 10:14:51</td>\n",
       "      <td>Bangalore</td>\n",
       "      <td>0</td>\n",
       "      <td>0.200629</td>\n",
       "    </tr>\n",
       "    <tr>\n",
       "      <th>4</th>\n",
       "      <td>5</td>\n",
       "      <td>2974</td>\n",
       "      <td>735.11</td>\n",
       "      <td>648</td>\n",
       "      <td>5322</td>\n",
       "      <td>2023-05-27 08:04:48</td>\n",
       "      <td>Kolkata</td>\n",
       "      <td>0</td>\n",
       "      <td>0.253473</td>\n",
       "    </tr>\n",
       "  </tbody>\n",
       "</table>\n",
       "</div>"
      ],
      "text/plain": [
       "   transaction_id  user_id  ...  is_fraud  fraud_score\n",
       "0               1     1683  ...         0     0.106549\n",
       "1               2     1108  ...         0     0.171961\n",
       "2               3     2889  ...         0     0.010616\n",
       "3               4     2207  ...         0     0.200629\n",
       "4               5     2974  ...         0     0.253473\n",
       "\n",
       "[5 rows x 9 columns]"
      ]
     },
     "execution_count": 25,
     "metadata": {},
     "output_type": "execute_result"
    }
   ],
   "source": [
    "df = pd.read_csv(\"synthetic_upi_fraud_dataset.csv\")\n",
    "df.head()"
   ]
  },
  {
   "cell_type": "code",
   "execution_count": 26,
   "id": "a21c2279",
   "metadata": {},
   "outputs": [],
   "source": [
    "df = df.drop([\"transaction_id\", \"transaction_time\", \"fraud_score\"], axis=1)"
   ]
  },
  {
   "cell_type": "code",
   "execution_count": 27,
   "id": "e429cdc3",
   "metadata": {},
   "outputs": [],
   "source": [
    "categorical_cols = [\"location\", \"device_id\", \"merchant_id\", \"user_id\"]\n",
    "encoder = LabelEncoder()\n",
    "for col in categorical_cols:\n",
    "    df[col] = encoder.fit_transform(df[col])"
   ]
  },
  {
   "cell_type": "code",
   "execution_count": 28,
   "id": "5be7fe09",
   "metadata": {},
   "outputs": [],
   "source": [
    "X = df.drop(\"is_fraud\", axis=1)\n",
    "y = df[\"is_fraud\"]"
   ]
  },
  {
   "cell_type": "code",
   "execution_count": 44,
   "id": "7c3adf54",
   "metadata": {},
   "outputs": [
    {
     "name": "stdout",
     "output_type": "stream",
     "text": [
      "<class 'pandas.core.frame.DataFrame'>\n",
      "RangeIndex: 100000 entries, 0 to 99999\n",
      "Data columns (total 5 columns):\n",
      " #   Column              Non-Null Count   Dtype  \n",
      "---  ------              --------------   -----  \n",
      " 0   user_id             100000 non-null  int64  \n",
      " 1   transaction_amount  100000 non-null  float64\n",
      " 2   merchant_id         100000 non-null  int64  \n",
      " 3   device_id           100000 non-null  int64  \n",
      " 4   location            100000 non-null  int64  \n",
      "dtypes: float64(1), int64(4)\n",
      "memory usage: 3.8 MB\n"
     ]
    }
   ],
   "source": [
    "X.info()"
   ]
  },
  {
   "cell_type": "code",
   "execution_count": 30,
   "id": "34542b08",
   "metadata": {},
   "outputs": [
    {
     "data": {
      "text/plain": [
       "0        0\n",
       "1        0\n",
       "2        0\n",
       "3        0\n",
       "4        0\n",
       "        ..\n",
       "99995    0\n",
       "99996    0\n",
       "99997    0\n",
       "99998    0\n",
       "99999    0\n",
       "Name: is_fraud, Length: 100000, dtype: int64"
      ]
     },
     "execution_count": 30,
     "metadata": {},
     "output_type": "execute_result"
    }
   ],
   "source": [
    "y"
   ]
  },
  {
   "cell_type": "code",
   "execution_count": 31,
   "id": "6acfc561",
   "metadata": {},
   "outputs": [
    {
     "name": "stdout",
     "output_type": "stream",
     "text": [
      "95825 4175\n"
     ]
    }
   ],
   "source": [
    "z=0\n",
    "o=0\n",
    "for i in y:\n",
    "    if i==0:\n",
    "        z+=1\n",
    "    else:\n",
    "        o+=1\n",
    "print(z , o)"
   ]
  },
  {
   "cell_type": "code",
   "execution_count": 32,
   "metadata": {},
   "outputs": [],
   "source": [
    "scaler = StandardScaler()\n",
    "X[\"transaction_amount\"] = scaler.fit_transform(X[[\"transaction_amount\"]])"
   ]
  },
  {
   "cell_type": "code",
   "execution_count": 33,
   "id": "b3d1faf0",
   "metadata": {},
   "outputs": [],
   "source": [
    "X_train, X_test, y_train, y_test = train_test_split(\n",
    "    X, y, test_size=0.2, stratify=y, random_state=42\n",
    ")"
   ]
  },
  {
   "cell_type": "code",
   "execution_count": 34,
   "id": "fcaf6646",
   "metadata": {},
   "outputs": [],
   "source": [
    "models = {\n",
    "    \"Logistic Regression\": LogisticRegression(max_iter=500, class_weight=\"balanced\"),\n",
    "    \"Random Forest\": RandomForestClassifier(\n",
    "        n_estimators=200, max_depth=10, random_state=42, class_weight=\"balanced\"\n",
    "    ),\n",
    "    \"Decision Tree\": DecisionTreeClassifier(\n",
    "        max_depth=10, random_state=42, class_weight=\"balanced\"\n",
    "    ),\n",
    "    \"XGBoost\": xgb.XGBClassifier(\n",
    "        n_estimators=200, max_depth=8, learning_rate=0.1, \n",
    "        scale_pos_weight=(len(y_train)-sum(y_train))/sum(y_train), # handle imbalance\n",
    "        use_label_encoder=False, eval_metric=\"logloss\", random_state=42\n",
    "    ),\n",
    "}"
   ]
  },
  {
   "cell_type": "code",
   "execution_count": 35,
   "id": "0bf75cd2",
   "metadata": {},
   "outputs": [
    {
     "name": "stdout",
     "output_type": "stream",
     "text": [
      "Training Logistic Regression...\n",
      "Training Random Forest...\n",
      "Training Decision Tree...\n",
      "Training XGBoost...\n"
     ]
    },
    {
     "name": "stderr",
     "output_type": "stream",
     "text": [
      "/home/Shiva-Arch/Desktop/UPI fraud Detection/venv/lib/python3.13/site-packages/xgboost/training.py:183: UserWarning: [21:41:44] WARNING: /workspace/src/learner.cc:738: \n",
      "Parameters: { \"use_label_encoder\" } are not used.\n",
      "\n",
      "  bst.update(dtrain, iteration=i, fobj=obj)\n"
     ]
    }
   ],
   "source": [
    "results = {}\n",
    "for name, model in models.items():\n",
    "    print(f\"Training {name}...\")\n",
    "    model.fit(X_train, y_train)\n",
    "    y_pred = model.predict(X_test)\n",
    "    y_pred_proba = model.predict_proba(X_test)[:, 1]\n",
    "    \n",
    "    report = classification_report(y_test, y_pred, digits=4, output_dict=True)\n",
    "    auc = roc_auc_score(y_test, y_pred_proba)\n",
    "    \n",
    "    results[name] = {\n",
    "        \"Precision\": report[\"1\"][\"precision\"],\n",
    "        \"Recall\": report[\"1\"][\"recall\"],\n",
    "        \"F1-score\": report[\"1\"][\"f1-score\"],\n",
    "        \"ROC-AUC\": auc\n",
    "    }"
   ]
  },
  {
   "cell_type": "code",
   "execution_count": 21,
   "id": "cc42d358",
   "metadata": {},
   "outputs": [
    {
     "name": "stdout",
     "output_type": "stream",
     "text": [
      "Model Comparison:\n",
      "                     Precision    Recall  F1-score   ROC-AUC\n",
      "Logistic Regression   0.933846  0.982201  0.957413  0.998913\n",
      "Random Forest         0.990307  0.991909  0.991108  0.999085\n",
      "Decision Tree         0.960506  0.983819  0.972022  0.991542\n",
      "XGBoost               0.975962  0.985437  0.980676  0.998029\n"
     ]
    }
   ],
   "source": [
    "comparison_df = pd.DataFrame(results).T\n",
    "print(\"Model Comparison:\")\n",
    "print(comparison_df)"
   ]
  },
  {
   "cell_type": "code",
   "execution_count": 23,
   "id": "044a9b82",
   "metadata": {},
   "outputs": [
    {
     "name": "stdout",
     "output_type": "stream",
     "text": [
      "Collecting matplotlib\n",
      "  Using cached matplotlib-3.10.6-cp313-cp313-manylinux2014_x86_64.manylinux_2_17_x86_64.whl.metadata (11 kB)\n",
      "Collecting contourpy>=1.0.1 (from matplotlib)\n",
      "  Using cached contourpy-1.3.3-cp313-cp313-manylinux_2_27_x86_64.manylinux_2_28_x86_64.whl.metadata (5.5 kB)\n",
      "Collecting cycler>=0.10 (from matplotlib)\n",
      "  Using cached cycler-0.12.1-py3-none-any.whl.metadata (3.8 kB)\n",
      "Collecting fonttools>=4.22.0 (from matplotlib)\n",
      "  Using cached fonttools-4.59.2-cp313-cp313-manylinux1_x86_64.manylinux2014_x86_64.manylinux_2_17_x86_64.manylinux_2_5_x86_64.whl.metadata (109 kB)\n",
      "Collecting kiwisolver>=1.3.1 (from matplotlib)\n",
      "  Using cached kiwisolver-1.4.9-cp313-cp313-manylinux2014_x86_64.manylinux_2_17_x86_64.whl.metadata (6.3 kB)\n",
      "Requirement already satisfied: numpy>=1.23 in ./venv/lib/python3.13/site-packages (from matplotlib) (2.3.2)\n",
      "Requirement already satisfied: packaging>=20.0 in ./venv/lib/python3.13/site-packages (from matplotlib) (25.0)\n",
      "Collecting pillow>=8 (from matplotlib)\n",
      "  Using cached pillow-11.3.0-cp313-cp313-manylinux_2_27_x86_64.manylinux_2_28_x86_64.whl.metadata (9.0 kB)\n",
      "Collecting pyparsing>=2.3.1 (from matplotlib)\n",
      "  Using cached pyparsing-3.2.3-py3-none-any.whl.metadata (5.0 kB)\n",
      "Requirement already satisfied: python-dateutil>=2.7 in ./venv/lib/python3.13/site-packages (from matplotlib) (2.9.0.post0)\n",
      "Requirement already satisfied: six>=1.5 in ./venv/lib/python3.13/site-packages (from python-dateutil>=2.7->matplotlib) (1.17.0)\n",
      "Downloading matplotlib-3.10.6-cp313-cp313-manylinux2014_x86_64.manylinux_2_17_x86_64.whl (8.7 MB)\n",
      "\u001b[2K   \u001b[90m━━━━━━━━━━━━━━━━━━━━━━━━━━━━━━━━━━━━━━━━\u001b[0m \u001b[32m8.7/8.7 MB\u001b[0m \u001b[31m317.9 kB/s\u001b[0m eta \u001b[36m0:00:00\u001b[0m00:01\u001b[0m00:01\u001b[0m\n",
      "\u001b[?25hUsing cached contourpy-1.3.3-cp313-cp313-manylinux_2_27_x86_64.manylinux_2_28_x86_64.whl (362 kB)\n",
      "Using cached cycler-0.12.1-py3-none-any.whl (8.3 kB)\n",
      "Downloading fonttools-4.59.2-cp313-cp313-manylinux1_x86_64.manylinux2014_x86_64.manylinux_2_17_x86_64.manylinux_2_5_x86_64.whl (4.9 MB)\n",
      "\u001b[2K   \u001b[90m━━━━━━━━━━━━━━━━━━━━━━━━━━━━━━━━━━━━━━━━\u001b[0m \u001b[32m4.9/4.9 MB\u001b[0m \u001b[31m262.4 kB/s\u001b[0m eta \u001b[36m0:00:00\u001b[0ma \u001b[36m0:00:01\u001b[0m\n",
      "\u001b[?25hDownloading kiwisolver-1.4.9-cp313-cp313-manylinux2014_x86_64.manylinux_2_17_x86_64.whl (1.5 MB)\n",
      "\u001b[2K   \u001b[90m━━━━━━━━━━━━━━━━━━━━━━━━━━━━━━━━━━━━━━━━\u001b[0m \u001b[32m1.5/1.5 MB\u001b[0m \u001b[31m986.2 kB/s\u001b[0m eta \u001b[36m0:00:00\u001b[0m\u001b[36m0:00:01\u001b[0m\n",
      "\u001b[?25hUsing cached pillow-11.3.0-cp313-cp313-manylinux_2_27_x86_64.manylinux_2_28_x86_64.whl (6.6 MB)\n",
      "Using cached pyparsing-3.2.3-py3-none-any.whl (111 kB)\n",
      "Installing collected packages: pyparsing, pillow, kiwisolver, fonttools, cycler, contourpy, matplotlib\n",
      "\u001b[2K   \u001b[90m━━━━━━━━━━━━━━━━━━━━━━━━━━━━━━━━━━━━━━━━\u001b[0m \u001b[32m7/7\u001b[0m [matplotlib]7\u001b[0m [matplotlib]\n",
      "\u001b[1A\u001b[2KSuccessfully installed contourpy-1.3.3 cycler-0.12.1 fonttools-4.59.2 kiwisolver-1.4.9 matplotlib-3.10.6 pillow-11.3.0 pyparsing-3.2.3\n",
      "\n",
      "\u001b[1m[\u001b[0m\u001b[34;49mnotice\u001b[0m\u001b[1;39;49m]\u001b[0m\u001b[39;49m A new release of pip is available: \u001b[0m\u001b[31;49m25.1.1\u001b[0m\u001b[39;49m -> \u001b[0m\u001b[32;49m25.2\u001b[0m\n",
      "\u001b[1m[\u001b[0m\u001b[34;49mnotice\u001b[0m\u001b[1;39;49m]\u001b[0m\u001b[39;49m To update, run: \u001b[0m\u001b[32;49mpip install --upgrade pip\u001b[0m\n",
      "Note: you may need to restart the kernel to use updated packages.\n"
     ]
    }
   ],
   "source": [
    "pip install matplotlib"
   ]
  },
  {
   "cell_type": "code",
   "execution_count": 36,
   "id": "708f1196",
   "metadata": {},
   "outputs": [
    {
     "data": {
      "image/png": "[encoded data removed]",
      "text/plain": [
       "<Figure size 1000x600 with 1 Axes>"
      ]
     },
     "metadata": {},
     "output_type": "display_data"
    }
   ],
   "source": [
    "import matplotlib.pyplot as plt\n",
    "\n",
    "# Plot Precision, Recall, F1-score, and ROC-AUC for each model\n",
    "comparison_df.plot(kind=\"bar\", figsize=(10,6))\n",
    "\n",
    "plt.title(\"Model Performance Comparison\")\n",
    "plt.ylabel(\"Score\")\n",
    "plt.ylim(0.9, 1.0)   # since your scores are all very high\n",
    "plt.xticks(rotation=45, ha=\"right\")\n",
    "plt.legend(loc=\"lower right\")\n",
    "plt.grid(axis=\"y\", linestyle=\"--\", alpha=0.7)\n",
    "\n",
    "plt.show()\n"
   ]
  },
  {
   "cell_type": "code",
   "execution_count": 37,
   "id": "5a6e77c1",
   "metadata": {},
   "outputs": [],
   "source": [
    "sample_transactions = pd.DataFrame([\n",
    "    {\"transaction_id\": 1, \"user_id\": 1234, \"transaction_amount\": 650, \"merchant_id\": 301, \"device_id\": 6050, \"location\": \"Mumbai\", \"is_fraud\": 0},\n",
    "    {\"transaction_id\": 2, \"user_id\": 1234, \"transaction_amount\": 720, \"merchant_id\": 322, \"device_id\": 6050, \"location\": \"Mumbai\", \"is_fraud\": 0},\n",
    "    {\"transaction_id\": 3, \"user_id\": 1234, \"transaction_amount\": 810, \"merchant_id\": 355, \"device_id\": 6050, \"location\": \"Mumbai\", \"is_fraud\": 0},\n",
    "    {\"transaction_id\": 4, \"user_id\": 1234, \"transaction_amount\": 980, \"merchant_id\": 360, \"device_id\": 6050, \"location\": \"Mumbai\", \"is_fraud\": 0},\n",
    "    {\"transaction_id\": 5, \"user_id\": 1234, \"transaction_amount\": 7450, \"merchant_id\": 401, \"device_id\": 7995, \"location\": \"Delhi\", \"is_fraud\": 1},\n",
    "    {\"transaction_id\": 6, \"user_id\": 1234, \"transaction_amount\": 2100, \"merchant_id\": 405, \"device_id\": 6050, \"location\": \"Mumbai\", \"is_fraud\": 0},\n",
    "    {\"transaction_id\": 7, \"user_id\": 1234, \"transaction_amount\": 8900, \"merchant_id\": 422, \"device_id\": 7997, \"location\": \"Kolkata\", \"is_fraud\": 1},\n",
    "    {\"transaction_id\": 8, \"user_id\": 1234, \"transaction_amount\": 640, \"merchant_id\": 310, \"device_id\": 6050, \"location\": \"Mumbai\", \"is_fraud\": 0},\n",
    "    {\"transaction_id\": 9, \"user_id\": 1234, \"transaction_amount\": 3100, \"merchant_id\": 499, \"device_id\": 6050, \"location\": \"Mumbai\", \"is_fraud\": 0},\n",
    "    {\"transaction_id\": 10, \"user_id\": 1234, \"transaction_amount\": 5200, \"merchant_id\": 450, \"device_id\": 7989, \"location\": \"Bangalore\", \"is_fraud\": 1},\n",
    "])\n"
   ]
  },
  {
   "cell_type": "code",
   "execution_count": 48,
   "id": "ecaa2157",
   "metadata": {},
   "outputs": [],
   "source": [
    "sample_transactions[\"location\"] = encoder.fit_transform(sample_transactions[\"location\"])\n",
    "sample_transactions[\"transaction_amount\"] = scaler.fit_transform(sample_transactions[[\"transaction_amount\"]])\n",
    "X_new = sample_transactions[[\"user_id\",\"transaction_amount\", \"merchant_id\", \"device_id\", \"location\"]]"
   ]
  },
  {
   "cell_type": "code",
   "execution_count": 49,
   "id": "28d42ec5",
   "metadata": {},
   "outputs": [
    {
     "name": "stdout",
     "output_type": "stream",
     "text": [
      "🔎 Multi-Model Inference Results:\n",
      "   transaction_id  transaction_amount  ...  XGBoost_pred  XGBoost_prob\n",
      "0               1           -0.822929  ...             0         0.249\n",
      "1               2           -0.798977  ...             0         0.264\n",
      "2               3           -0.768182  ...             0         0.346\n",
      "3               4           -0.710012  ...             0         0.211\n",
      "4               5            1.503857  ...             0         0.005\n",
      "5               6           -0.326777  ...             0         0.126\n",
      "6               7            2.000010  ...             1         0.989\n",
      "7               8           -0.826351  ...             0         0.225\n",
      "8               9            0.015398  ...             0         0.186\n",
      "9              10            0.733964  ...             0         0.025\n",
      "\n",
      "[10 rows x 12 columns]\n"
     ]
    }
   ],
   "source": [
    "results = sample_transactions.copy()\n",
    "\n",
    "for model_name, model in models.items():\n",
    "    preds = model.predict(X_new)\n",
    "    probs = model.predict_proba(X_new)[:, 1]\n",
    "    \n",
    "    results[f\"{model_name}_pred\"] = preds\n",
    "    results[f\"{model_name}_prob\"] = probs.round(3)\n",
    "\n",
    "# --- 4. Show comparison ---\n",
    "print(\"🔎 Multi-Model Inference Results:\")\n",
    "print(results[\n",
    "    [\"transaction_id\", \"transaction_amount\", \"location\", \"is_fraud\"] +\n",
    "    [col for col in results.columns if \"_pred\" in col or \"_prob\" in col]\n",
    "])"
   ]
  },
  {
   "cell_type": "code",
   "execution_count": 51,
   "id": "8354268f",
   "metadata": {},
   "outputs": [
    {
     "name": "stdout",
     "output_type": "stream",
     "text": [
      "🔎 True vs Model Predictions:\n",
      "   true_is_fraud  Logistic Regression  Random Forest  Decision Tree  XGBoost\n",
      "0              0                    0              0              0        0\n",
      "1              0                    0              0              0        0\n",
      "2              0                    0              0              0        0\n",
      "3              0                    0              0              0        0\n",
      "4              1                    1              0              0        0\n",
      "5              0                    0              0              0        0\n",
      "6              1                    1              1              0        1\n",
      "7              0                    0              0              0        0\n",
      "8              0                    0              0              0        0\n",
      "9              1                    1              0              0        0\n"
     ]
    }
   ],
   "source": [
    "results = pd.DataFrame()\n",
    "results[\"true_is_fraud\"] = sample_transactions[\"is_fraud\"]\n",
    "\n",
    "for model_name, model in models.items():\n",
    "    results[model_name] = model.predict(X_new)\n",
    "\n",
    "# --- Show results ---\n",
    "print(\"🔎 True vs Model Predictions:\")\n",
    "print(results)"
   ]
  }
 ],
 "metadata": {
  "kernelspec": {
   "display_name": "venv (3.13.5)",
   "language": "python",
   "name": "python3"
  },
  "language_info": {
   "codemirror_mode": {
    "name": "ipython",
    "version": 3
   },
   "file_extension": ".py",
   "mimetype": "text/x-python",
   "name": "python",
   "nbconvert_exporter": "python",
   "pygments_lexer": "ipython3",
   "version": "3.13.5"
  }
 },
 "nbformat": 4,
 "nbformat_minor": 5
}
